{
 "cells": [
  {
   "cell_type": "markdown",
   "metadata": {},
   "source": [
    "# Palindromes\n",
    "A palindrome is a string that reads the same from right to left as left to right. For example, 2112 and mom are palindromes.\n"
   ]
  },
  {
   "cell_type": "code",
   "execution_count": 37,
   "metadata": {
    "vscode": {
     "languageId": "javascript"
    }
   },
   "outputs": [
    {
     "ename": "SyntaxError",
     "evalue": "invalid syntax (2280736502.py, line 1)",
     "output_type": "error",
     "traceback": [
      "\u001b[0;36m  Cell \u001b[0;32mIn[37], line 1\u001b[0;36m\u001b[0m\n\u001b[0;31m    function palindrome(inputStr) {\u001b[0m\n\u001b[0m             ^\u001b[0m\n\u001b[0;31mSyntaxError\u001b[0m\u001b[0;31m:\u001b[0m invalid syntax\n"
     ]
    }
   ],
   "source": [
    "function palindrome(inputStr) {\n",
    "    // Remove spaces and convert the string to lowercase\n",
    "    const cleanStr = inputStr.replace(/\\s+/g, \"\").toLowerCase();\n",
    "    // Check if the cleaned string is equal to its reverse\n",
    "    return cleanStr === cleanStr.split('').reverse().join('');\n",
    "}\n",
    "\n",
    "// Example usage\n",
    "console.log(palindrome(\"taco cat\"));  // true\n",
    "console.log(palindrome(\"hello\"));     // false\n",
    "console.log(palindrome(\"Madam\"));     // true\n",
    "console.log(palindrome(\"A man a plan a canal Panama\")); // true\n"
   ]
  }
 ],
 "metadata": {
  "kernelspec": {
   "display_name": "Python 3",
   "language": "python",
   "name": "python3"
  },
  "language_info": {
   "codemirror_mode": {
    "name": "ipython",
    "version": 3
   },
   "file_extension": ".py",
   "mimetype": "text/x-python",
   "name": "python",
   "nbconvert_exporter": "python",
   "pygments_lexer": "ipython3",
   "version": "3.12.6"
  }
 },
 "nbformat": 4,
 "nbformat_minor": 2
}
