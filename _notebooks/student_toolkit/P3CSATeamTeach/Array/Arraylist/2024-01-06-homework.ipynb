{
 "cells": [
  {
   "cell_type": "markdown",
   "metadata": {},
   "source": [
    "---\n",
    "layout: post\n",
    "toc: true\n",
    "title: Array/Arraylist\n",
    "description: AP CSA FRQ Array/Arraylist Homework\n",
    "courses: { csa: {week: 1} }\n",
    "type: ccc\n",
    "categories: [AP CSA]\n",
    "menu: nav/student_toolkit/P3CSATeamTeach/array.html\n",
    "permalink: /teamteach/array/homework\n",
    "---"
   ]
  }
 ],
 "metadata": {
  "language_info": {
   "name": "python"
  }
 },
 "nbformat": 4,
 "nbformat_minor": 2
}
