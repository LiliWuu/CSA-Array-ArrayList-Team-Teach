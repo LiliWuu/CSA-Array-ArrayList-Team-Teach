{
 "cells": [
  {
   "cell_type": "raw",
   "metadata": {
    "vscode": {
     "languageId": "raw"
    }
   },
   "source": [
    "\n",
    "Conditionals in both JavaScript and Python are used to execute code only if certain conditions are true. They allow programs to make decisions based on logical tests, and are essential in controlling the flow of execution in programs."
   ]
  },
  {
   "cell_type": "code",
   "execution_count": null,
   "metadata": {},
   "outputs": [],
   "source": [
    "# Example of Python Conditionals\n",
    "\n",
    "score = 85\n",
    "\n",
    "if score >= 90:\n",
    "    print(\"A\")\n",
    "elif score >= 80:\n",
    "    print(\"B\")\n",
    "elif score >= 70:\n",
    "    print(\"C\")\n",
    "else:\n",
    "    print(\"F\")\n"
   ]
  },
  {
   "cell_type": "raw",
   "metadata": {
    "vscode": {
     "languageId": "raw"
    }
   },
   "source": [
    "Important Notes:\n",
    "Conditions are usually comparisons (e.g., score >= 90), and they evaluate to either True or False.\n",
    "Indentation is important in Python. Unlike JavaScript, which uses curly braces {} to define code blocks, Python uses indentation to signify the beginning and end of code blocks.\n"
   ]
  },
  {
   "cell_type": "code",
   "execution_count": null,
   "metadata": {
    "vscode": {
     "languageId": "javascript"
    }
   },
   "outputs": [],
   "source": [
    "javascript\n",
    "// Example of JavaScript Conditionals\n",
    "\n",
    "let score = 85;\n",
    "\n",
    "if (score >= 90) {\n",
    "  console.log(\"A\");\n",
    "} else if (score >= 80) {\n",
    "  console.log(\"B\");\n",
    "} else if (score >= 70) {\n",
    "  console.log(\"C\");\n",
    "} else {\n",
    "  console.log(\"F\");\n",
    "}\n",
    "\n",
    "\n",
    "Homework: Create a project with 3 conditionals, one being if statement, one elif statement, and one else statement"
   ]
  }
 ],
 "metadata": {
  "kernelspec": {
   "display_name": "Python 3.12.5 64-bit",
   "language": "python",
   "name": "python3"
  },
  "language_info": {
   "name": "python",
   "version": "3.12.5"
  },
  "vscode": {
   "interpreter": {
    "hash": "b0fa6594d8f4cbf19f97940f81e996739fb7646882a419484c72d19e05852a7e"
   }
  }
 },
 "nbformat": 4,
 "nbformat_minor": 2
}
