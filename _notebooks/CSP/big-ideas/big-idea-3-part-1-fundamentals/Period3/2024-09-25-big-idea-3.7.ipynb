{
 "cells": [
  {
   "cell_type": "markdown",
   "metadata": {},
   "source": [
    "## NESTED CONDITIONALS"
   ]
  },
  {
   "cell_type": "markdown",
   "metadata": {},
   "source": [
    "## Python example for nested conditionals"
   ]
  },
  {
   "cell_type": "code",
   "execution_count": null,
   "metadata": {},
   "outputs": [],
   "source": [
    "age = int(input(\"Enter your age: \"))\n",
    "\n",
    "if age >= 18:\n",
    "    print(\"You are eligible to register.\")\n",
    "else:\n",
    "    print(\"You are under 18.\")\n",
    "    \n",
    "    parental_consent = input(\"Do you have parental consent? (yes/no): \").lower()\n",
    "\n",
    "    if parental_consent == 'yes':\n",
    "        print(\"You are eligible to register with parental consent.\")\n",
    "    elif parental_consent == 'no':\n",
    "        print(\"You are not eligible to register without parental consent.\")\n",
    "    else:\n",
    "        print(\"Invalid input. Please answer with 'yes' or 'no'.\")\n",
    "\n",
    "\n",
    "\n",
    "      "
   ]
  },
  {
   "cell_type": "markdown",
   "metadata": {},
   "source": [
    "## JavaScript example for nested conditionals"
   ]
  },
  {
   "cell_type": "code",
   "execution_count": null,
   "metadata": {
    "vscode": {
     "languageId": "javascript"
    }
   },
   "outputs": [],
   "source": [
    "let score = 85;\n",
    "\n",
    "if (score >= 90) {\n",
    "    console.log(\"Grade: A\");\n",
    "} else if (score >= 80) {\n",
    "    console.log(\"Grade: B\");\n",
    "} else if (score >= 70) {\n",
    "    console.log(\"Grade: C\");\n",
    "} else if (score >= 60) {\n",
    "    console.log(\"Grade: D\");\n",
    "} else {\n",
    "    console.log(\"Grade: F\");\n",
    "}\n"
   ]
  }
 ],
 "metadata": {
  "language_info": {
   "name": "python"
  }
 },
 "nbformat": 4,
 "nbformat_minor": 2
}
