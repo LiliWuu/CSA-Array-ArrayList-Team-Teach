{
 "cells": [
  {
   "cell_type": "raw",
   "metadata": {
    "vscode": {
     "languageId": "raw"
    }
   },
   "source": [
    "---\n",
    "toc: false\n",
    "comments: true\n",
    "layout: post\n",
    "title: 3.2.1 Data Types\n",
    "description: Student led teaching on data types and when to use them.\n",
    "permalink: /csp/big-idea/p3/3-2-1\n",
    "categories: [CSP Big Ideas]\n",
    "author:  Michelle Kurvilla\n",
    "menu: nav/csp_units/csp_unit3_p3_fundamentals.html\n",
    "---"
   ]
  },
  {
   "cell_type": "markdown",
   "metadata": {},
   "source": [
    "## Integers\n",
    "Integers are a important data type in computer science. They can be used to represent whole numbers, both positive and negative, including zero. In many programming languages, integers are used for counting, indexing, and various arithmetic operations.\n"
   ]
  },
  {
   "cell_type": "code",
   "execution_count": null,
   "metadata": {},
   "outputs": [],
   "source": [
    "# Example of integer operations in Python\n",
    "a = 5\n",
    "b = 3\n",
    "\n",
    "\n",
    "# Performing arithmetic operations\n",
    "sum_result = a + b       # 8\n",
    "product_result = a * b   # 15\n",
    "mod_result = a % b       # 2\n",
    "\n",
    "\n",
    "# Output the results\n",
    "print(\"Sum:\", sum_result)\n",
    "print(\"Product:\", product_result)\n",
    "print(\"Modulo:\", mod_result)\n",
    "\n",
    "\n"
   ]
  },
  {
   "cell_type": "markdown",
   "metadata": {},
   "source": [
    "## Floating-Point Numbers\n",
    "\n",
    "Floating-point numbers represent real numbers that have a decimal point. They are used to approximate real numbers when dealing with fractional or very large values in programming.\n"
   ]
  },
  {
   "cell_type": "code",
   "execution_count": null,
   "metadata": {},
   "outputs": [],
   "source": [
    "# Example of floating-point operations in Python\n",
    "x = 5.75\n",
    "y = 3.4\n",
    "\n",
    "\n",
    "# Performing arithmetic operations\n",
    "sum_result = x + y            # 9.15\n",
    "product_result = x * y        # 19.55\n",
    "division_result = x / y       # 1.6911764705882353\n",
    "\n",
    "\n",
    "# Output the results\n",
    "print(\"Sum:\", sum_result)\n",
    "print(\"Product:\", product_result)\n",
    "print(\"Division:\", division_result)\n",
    "\n",
    "\n",
    "# Floating-point precision issue\n",
    "a = 0.1\n",
    "b = 0.2\n",
    "precision_issue = a + b        # 0.30000000000000004\n",
    "\n",
    "\n",
    "# Output the precision issue result\n",
    "print(\"Precision Issue (0.1 + 0.2):\", precision_issue)\n"
   ]
  },
  {
   "cell_type": "markdown",
   "metadata": {},
   "source": [
    "## Strings\n",
    "\n",
    "\n",
    "A **string** is a sequence of characters, such as letters, numbers, symbols, and spaces. Strings are widely used in programming to represent text and are usually enclosed in quotes (`\" \"` or `' '`).\n"
   ]
  },
  {
   "cell_type": "code",
   "execution_count": null,
   "metadata": {},
   "outputs": [],
   "source": [
    "# Example of string operations in Python\n",
    "name = \"Alice\"\n",
    "greeting = \"Hello, \" + name   # Concatenation\n",
    "print(greeting)               # Output: Hello, Alice\n",
    "\n",
    "\n",
    "# String slicing\n",
    "substring = name[1:4]         # 'lic'\n",
    "\n",
    "\n",
    "# String length\n",
    "length = len(name)            # 5\n",
    "\n",
    "\n",
    "# Using string methods\n",
    "uppercase_name = name.upper() # 'ALICE'\n"
   ]
  },
  {
   "cell_type": "markdown",
   "metadata": {},
   "source": [
    "## Lists\n",
    "\n",
    "A **list** is an ordered collection of elements, which can include numbers, strings, or other objects. Lists are a fundamental data structure in programming that allows for efficient data management and manipulation.\n"
   ]
  },
  {
   "cell_type": "code",
   "execution_count": null,
   "metadata": {},
   "outputs": [],
   "source": [
    "## Examples of Lists in Python\n",
    "\n",
    "## Lists in Python are versatile and can be used to store a collection of items. Below are some common operations performed on lists.\n",
    "\n",
    "### Creating a List\n",
    "\n",
    "# Creating a list\n",
    "my_list = [10, 20, 30, 40]\n",
    "print(\"Initial List:\", my_list)  # Output: Initial List: [10, 20, 30, 40]\n"
   ]
  },
  {
   "cell_type": "markdown",
   "metadata": {},
   "source": [
    "## Tuples\n",
    "\n",
    "\n",
    "A **tuple** is an immutable ordered collection of elements. Unlike lists, tuples cannot be modified after their creation, making them useful for storing fixed collections of items.\n"
   ]
  },
  {
   "cell_type": "code",
   "execution_count": null,
   "metadata": {},
   "outputs": [],
   "source": [
    "# Example of tuple operations in Python\n",
    "\n",
    "\n",
    "# Creating a tuple\n",
    "my_tuple = (10, 20, 30, \"Hello\")\n",
    "print(\"Initial Tuple:\", my_tuple)  # Output: Initial Tuple: (10, 20, 30, \"Hello\")\n",
    "\n",
    "\n",
    "# Accessing elements\n",
    "first_element = my_tuple[0]  # 10\n",
    "print(\"First Element:\", first_element)  # Output: First Element: 10\n",
    "\n",
    "\n",
    "# Length of the tuple\n",
    "length = len(my_tuple)\n",
    "print(\"Length of the Tuple:\", length)  # Output: Length of the Tuple: 4\n",
    "\n",
    "\n",
    "# Concatenation\n",
    "another_tuple = (40, 50)\n",
    "concatenated = my_tuple + another_tuple\n",
    "print(\"Concatenated Tuple:\", concatenated)  # Output: Concatenated Tuple: (10, 20, 30, \"Hello\", 40, 50)\n",
    "\n",
    "\n",
    "# Repetition\n",
    "repeated = my_tuple * 2\n",
    "print(\"Repeated Tuple:\", repeated)  # Output: Repeated Tuple: (10, 20, 30, \"Hello\", 10, 20, 30, \"Hello\")\n",
    "\n",
    "\n",
    "# Attempting to modify a tuple (will raise an error)\n",
    "# Uncommenting the line below will result in a TypeError\n",
    "# my_tuple[1] = 25  # This will result in a TypeError\n"
   ]
  },
  {
   "cell_type": "markdown",
   "metadata": {},
   "source": [
    "## Dictionaries\n",
    "A dictionary is a collection of key-value pairs, where each key is unique. It allows you to store and retrieve data based on a key rather than an index, like in a list."
   ]
  },
  {
   "cell_type": "code",
   "execution_count": null,
   "metadata": {},
   "outputs": [],
   "source": [
    "person = {\n",
    "    \"name\": \"Alice\",\n",
    "    \"age\": 25,\n",
    "    \"city\": \"New York\"\n",
    "}\n",
    "print(person[\"name\"])  # Output: Alice\n"
   ]
  },
  {
   "cell_type": "markdown",
   "metadata": {},
   "source": [
    "## Sets\n",
    "A set is an unordered collection of unique items. Sets are useful when you want to ensure that there are no duplicate elements.\n",
    "\n",
    "- Sets are unordered and unindexed. You cannot access elements by position.\n",
    "- Sets automatically remove duplicates."
   ]
  },
  {
   "cell_type": "code",
   "execution_count": null,
   "metadata": {},
   "outputs": [],
   "source": [
    "fruits = {\"apple\", \"banana\", \"orange\"}\n",
    "print(fruits)  # Output: {'banana', 'apple', 'orange'} (order is not guaranteed)\n",
    "\n",
    "# Adding a new item to a set\n",
    "fruits.add(\"grape\")\n",
    "print(fruits)  # Output: {'banana', 'grape', 'apple', 'orange'}\n",
    "\n",
    "# Duplicate items are ignored\n",
    "fruits.add(\"apple\")\n",
    "print(fruits)  # Output: {'banana', 'grape', 'apple', 'orange'}\n"
   ]
  },
  {
   "cell_type": "markdown",
   "metadata": {},
   "source": [
    "## Booleans\n",
    "A boolean is a data type that can have one of two values: `True` or `False`. Booleans are commonly used in conditional statements to control the flow of programs.\n",
    "\n"
   ]
  },
  {
   "cell_type": "code",
   "execution_count": null,
   "metadata": {},
   "outputs": [],
   "source": [
    "is_sunny = True\n",
    "is_raining = False\n",
    "\n",
    "if is_sunny:\n",
    "    print(\"Go outside!\")  # Output: Go outside!\n"
   ]
  },
  {
   "cell_type": "markdown",
   "metadata": {},
   "source": [
    "## None\n",
    "None is a special constant in Python that represents the absence of a value or a null value. It’s commonly used as a placeholder for optional or yet-to-be-assigned values.\n",
    "\n",
    "- None is often used to indicate \"no value\" or \"empty.\"\n"
   ]
  }
 ],
 "metadata": {
  "language_info": {
   "name": "python"
  }
 },
 "nbformat": 4,
 "nbformat_minor": 2
}
