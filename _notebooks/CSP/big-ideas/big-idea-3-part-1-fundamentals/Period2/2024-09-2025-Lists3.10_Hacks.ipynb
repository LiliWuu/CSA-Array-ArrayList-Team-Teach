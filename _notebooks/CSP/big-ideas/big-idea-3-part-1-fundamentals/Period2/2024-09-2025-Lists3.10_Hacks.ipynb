{
 "cells": [
  {
   "cell_type": "markdown",
   "metadata": {},
   "source": [
    "---\n",
    "toc: false\n",
    "comments: true\n",
    "layout: post\n",
    "title: 3.10.3 Lists\n",
    "description: Student led teaching on Lists. Learn how storage and manipulation of multiple items using indexing to access individual elements.\n",
    "permalink: /csp/big-idea/3-10-3\n",
    "categories: [CSP Big Ideas]\n",
    "author:  Alex, Daksha, Darsh, Zach\n",
    "menu: nav/csp_units/csp_unit3_p2_bigideas_3-10.html\n",
    "---"
   ]
  },
  {
   "cell_type": "markdown",
   "metadata": {
    "vscode": {
     "languageId": "raw"
    }
   },
   "source": [
    "This Python code finds the maximum and minimum numbers in a given list of integers.\n",
    "\n",
    "1. **Sample List**: The code defines a list of numbers: `[5, 3, 8, 1, 2, 7, 4, 6]`.\n",
    "\n",
    "2. **Finding Maximum and Minimum**:\n",
    "   - It uses the `max()` function to find the largest number in the list.\n",
    "   - It uses the `min()` function to find the smallest number in the list.\n",
    "\n",
    "3. **Displaying Results**:\n",
    "   - The results are printed to the console:\n",
    "     - The maximum number is displayed using `print(f\"The maximum number is: {max_num}\")`.\n",
    "     - The minimum number is displayed using `print(f\"The minimum number is: {min_num}\")`.\n"
   ]
  },
  {
   "cell_type": "code",
   "execution_count": 1,
   "metadata": {},
   "outputs": [
    {
     "name": "stdout",
     "output_type": "stream",
     "text": [
      "The maximum number is: 8\n",
      "The minimum number is: 1\n"
     ]
    }
   ],
   "source": [
    "# Sample list of numbers\n",
    "numbers = [5, 3, 8, 1, 2, 7, 4, 6]\n",
    "\n",
    "# Finding maximum and minimum numbers\n",
    "max_num = max(numbers)\n",
    "min_num = min(numbers)\n",
    "\n",
    "# Displaying the results\n",
    "print(f\"The maximum number is: {max_num}\")\n",
    "print(f\"The minimum number is: {min_num}\")\n"
   ]
  },
  {
   "cell_type": "code",
   "execution_count": null,
   "metadata": {},
   "outputs": [],
   "source": []
  }
 ],
 "metadata": {
  "kernelspec": {
   "display_name": "venv",
   "language": "python",
   "name": "python3"
  },
  "language_info": {
   "codemirror_mode": {
    "name": "ipython",
    "version": 3
   },
   "file_extension": ".py",
   "mimetype": "text/x-python",
   "name": "python",
   "nbconvert_exporter": "python",
   "pygments_lexer": "ipython3",
   "version": "3.12.3"
  }
 },
 "nbformat": 4,
 "nbformat_minor": 2
}
