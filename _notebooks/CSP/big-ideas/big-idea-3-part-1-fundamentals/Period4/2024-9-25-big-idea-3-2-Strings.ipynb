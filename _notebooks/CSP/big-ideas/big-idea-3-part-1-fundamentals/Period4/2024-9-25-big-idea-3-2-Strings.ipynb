{
 "cells": [
  {
   "cell_type": "raw",
   "metadata": {
    "vscode": {
     "languageId": "raw"
    }
   },
   "source": [
    "---\n",
    "toc: false\n",
    "comments: true\n",
    "layout: post\n",
    "title: 3.2 Data abstraction\n",
    "description: Student led teaching on Dictionaries. Learn how to do loops with Java and Python.\n",
    "permalink: /csp/big-idea/p2/3-8-3\n",
    "categories: [CSP Big Ideas]\n",
    "author: Thomas Bao, Ian Managan, Collin Ge, Aarush Kota\n",
    "menu: nav/csp_units/csp_unit3_p2_fundamentals.html\n",
    "---"
   ]
  },
  {
   "cell_type": "markdown",
   "metadata": {},
   "source": [
    "# Dictionaries in Python\n",
    "\n",
    "A **dictionary** in Python is a built-in data structure that allows you to store data in key-value pairs. It is mutable, meaning you can change its contents after creation. Dictionaries are unordered, which means the items do not have a specific order.\n",
    "\n",
    "## Key Characteristics:\n",
    "- **Key-Value Pairs**: Each item in a dictionary consists of a key and a corresponding value. Keys must be unique and immutable (strings, numbers, or tuples), while values can be of any data type (including lists, tuples, or even other dictionaries).\n",
    "- **Mutable**: You can add, remove, or change items in a dictionary.\n",
    "- **Unordered**: The order of items is not guaranteed and can change.\n",
    "\n",
    "## Syntax:\n",
    "```python\n",
    "my_dict = {\n",
    "    'key1': 'value1',\n",
    "    'key2': 'value2',\n",
    "    'key3': 'value3'\n",
    "}\n"
   ]
  },
  {
   "cell_type": "markdown",
   "metadata": {},
   "source": [
    "# Creating a dictionary\n",
    "person = {\n",
    "    'name': 'Alice',\n",
    "    'age': 30,\n",
    "    'profession': 'Engineer'\n",
    "}\n",
    "\n",
    "# Accessing values by key\n",
    "print(person['name'])       # Output: Alice\n",
    "print(person['age'])        # Output: 30\n",
    "\n",
    "# Adding a new key-value pair\n",
    "person['email'] = 'alice@example.com'\n",
    "\n",
    "# Modifying an existing value\n",
    "person['age'] = 31\n",
    "\n",
    "# Removing a key-value pair\n",
    "del person['profession']\n",
    "\n",
    "# Displaying the updated dictionary\n",
    "print(person)\n"
   ]
  },
  {
   "cell_type": "markdown",
   "metadata": {},
   "source": [
    "# A simple contact book using dictionaries\n",
    "\n",
    "# Function to add a contact\n",
    "def add_contact(contact_book, name, phone, email):\n",
    "    contact_book[name] = {\n",
    "        \"phone\": phone,\n",
    "        \"email\": email\n",
    "    }\n",
    "\n",
    "# Function to display contacts\n",
    "def display_contacts(contact_book):\n",
    "    for name, info in contact_book.items():\n",
    "        print(f\"Name: {name}, Phone: {info['phone']}, Email: {info['email']}\")\n",
    "\n",
    "# Initialize an empty contact book\n",
    "contact_book = {}\n",
    "\n",
    "# Add some contacts\n",
    "add_contact(contact_book, \"Alice\", \"123-456-7890\", \"alice@example.com\")\n",
    "add_contact(contact_book, \"Bob\", \"987-654-3210\", \"bob@example.com\")\n",
    "add_contact(contact_book, \"Charlie\", \"555-555-5555\", \"charlie@example.com\")\n",
    "\n",
    "# Display all contacts\n",
    "print(\"Contact Book:\")\n",
    "display_contacts(contact_book)\n"
   ]
  }
 ],
 "metadata": {
  "kernelspec": {
   "display_name": "venv",
   "language": "python",
   "name": "python3"
  },
  "language_info": {
   "name": "python",
   "version": "3.12.6"
  }
 },
 "nbformat": 4,
 "nbformat_minor": 2
}
