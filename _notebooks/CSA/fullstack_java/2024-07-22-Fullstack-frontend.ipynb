{
 "cells": [
  {
   "cell_type": "raw",
   "metadata": {},
   "source": [
    "---\n",
    "layout: post\n",
    "title: Frontend Fullstack Development\n",
    "description: Guide to the backend development of you're feature\n",
    "permalink: /fullstack/java/frontend\n",
    "menu: nav/fullstack_java.html\n",
    "toc: true\n",
    "comments: true\n",
    "author: Finn Carpenter\n",
    "---"
   ]
  },
  {
   "cell_type": "markdown",
   "metadata": {},
   "source": [
    "## Frontend Code\n",
    "> Why being lazy is good\n",
    "- Coding in HTML takes forever\n",
    "- "
   ]
  },
  {
   "cell_type": "code",
   "execution_count": null,
   "metadata": {},
   "outputs": [],
   "source": []
  }
 ],
 "metadata": {
  "language_info": {
   "name": "python"
  }
 },
 "nbformat": 4,
 "nbformat_minor": 2
}
