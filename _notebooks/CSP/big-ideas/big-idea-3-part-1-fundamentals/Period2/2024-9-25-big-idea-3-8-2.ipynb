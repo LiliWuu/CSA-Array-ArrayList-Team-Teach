{
 "cells": [
  {
   "cell_type": "raw",
   "metadata": {
    "vscode": {
     "languageId": "raw"
    }
   },
   "source": [
    "---\n",
    "toc: false\n",
    "comments: true\n",
    "layout: post\n",
    "title: 3.8.2 While, Do-While \n",
    "description: Student led teaching on Iteration. Learn how to do loops with Java and Python.\n",
    "permalink: /csp/big-idea/p2/3-8-2\n",
    "categories: [CSP Big Ideas]\n",
    "author:  Arshia, Mirabelle, Alejandro, Prajna\n",
    "menu: nav/csp_units/csp_unit3_p2_fundamentals.html\n",
    "---"
   ]
  },
  {
   "cell_type": "raw",
   "metadata": {
    "vscode": {
     "languageId": "raw"
    }
   },
   "source": [
    "## While Loops\n",
    "Used to execute a block of code as long as a condition is true"
   ]
  },
  {
   "cell_type": "code",
   "execution_count": 16,
   "metadata": {},
   "outputs": [
    {
     "name": "stdout",
     "output_type": "stream",
     "text": [
      "Number is: 1\n",
      "Number is: 2\n",
      "Number is: 3\n",
      "Number is: 4\n",
      "Number is: 5\n"
     ]
    }
   ],
   "source": [
    "# Initialize the control variable\n",
    "number = 1\n",
    "\n",
    "# While loop that runs as long as the counter is less than or equal to 5\n",
    "while number <= 5:\n",
    "    print(\"Number is:\", number)\n",
    "    \n",
    "    # Update the control variable (increment by 1)\n",
    "    number += 1\n"
   ]
  },
  {
   "cell_type": "code",
   "execution_count": 39,
   "metadata": {
    "vscode": {
     "languageId": "javascript"
    }
   },
   "outputs": [
    {
     "data": {
      "application/javascript": "let i = 10;  // Initialize a variable\n\nwhile (i >= 0) {  // Condition: loop runs as long as i is greater than or equal to 0\n    console.log(\"Countdown: \" + i);  // Output the current value of i\n    i--;  // Decrement the value of i\n}\n\nconsole.log(\"Liftoff!\");  // Message after the loop completes\n",
      "text/plain": [
       "<IPython.core.display.Javascript object>"
      ]
     },
     "metadata": {},
     "output_type": "display_data"
    }
   ],
   "source": [
    "%%js\n",
    "let i = 10;  // Initialize a variable\n",
    "\n",
    "while (i >= 0) {  // Condition: loop runs as long as i is greater than or equal to 0\n",
    "    console.log(\"Countdown: \" + i);  // Output the current value of i\n",
    "    i--;  // Decrement the value of i\n",
    "}\n",
    "\n",
    "console.log(\"Liftoff!\");  // Message after the loop completes\n"
   ]
  },
  {
   "cell_type": "raw",
   "metadata": {
    "vscode": {
     "languageId": "raw"
    }
   },
   "source": [
    "## Do While Loops\n",
    "A control flow statement that executes a block of code at least once. It will continue to execute \n",
    "the block repeatedly, or stop, depending on a true/false condition evaluated at the end.\n",
    "\n",
    "A working loop has three key components:\n",
    "    - Actions or operations performed within the loop\n",
    "    - Update of the loop control variable (flag)\n",
    "    - Test expression to determine whether the loop continues or terminates"
   ]
  },
  {
   "cell_type": "code",
   "execution_count": 42,
   "metadata": {},
   "outputs": [
    {
     "name": "stdout",
     "output_type": "stream",
     "text": [
      "The count is: 0\n",
      "The count is: 1\n",
      "The count is: 2\n",
      "The count is: 3\n",
      "The count is: 4\n"
     ]
    }
   ],
   "source": [
    "# Initialize a variable\n",
    "count = 0\n",
    "\n",
    "while True:  # Infinite loop to mimic 'do'\n",
    "    print(\"The count is:\", count)\n",
    "    count += 1  # Increment the count\n",
    "    \n",
    "    # Check condition at the end (like in a do-while loop)\n",
    "    if count >= 5:\n",
    "        break  # Exit the loop when the condition is met\n"
   ]
  },
  {
   "cell_type": "code",
   "execution_count": 44,
   "metadata": {},
   "outputs": [
    {
     "data": {
      "application/javascript": "\nlet count = 0;\n\ndo {\n    console.log(\"The count is: \" + count);\n    count++;  // Increment the count\n} while (count < 5);\n\nconsole.log(\"Loop is done.\");\n",
      "text/plain": [
       "<IPython.core.display.Javascript object>"
      ]
     },
     "metadata": {},
     "output_type": "display_data"
    }
   ],
   "source": [
    "%%js\n",
    "\n",
    "let count = 0;\n",
    "\n",
    "do {\n",
    "    console.log(\"The count is: \" + count);\n",
    "    count++;  // Increment the count\n",
    "} while (count < 5);\n",
    "\n",
    "console.log(\"Loop is done.\");\n"
   ]
  }
 ],
 "metadata": {
  "kernelspec": {
   "display_name": "venv",
   "language": "python",
   "name": "python3"
  },
  "language_info": {
   "codemirror_mode": {
    "name": "ipython",
    "version": 3
   },
   "file_extension": ".py",
   "mimetype": "text/x-python",
   "name": "python",
   "nbconvert_exporter": "python",
   "pygments_lexer": "ipython3",
   "version": "3.12.3"
  }
 },
 "nbformat": 4,
 "nbformat_minor": 2
}
