{
 "cells": [
  {
   "cell_type": "markdown",
   "metadata": {},
   "source": [
    "---\n",
    "layout: post\n",
    "comments: true\n",
    "title: If Statements\n",
    "description: if statements\n",
    "permalink: /csp/big-idea/p3/3-6-1\n",
    "---\n",
    "\n",
    "Conditionals in both **JavaScript** and **Python** are used to execute code only if certain conditions are true. They allow programs to make decisions based on logical tests and are essential for controlling the flow of execution in programs.\n",
    "\n",
    "## Example of Python Conditionals\n",
    "\n",
    "```python\n",
    "score = 85\n",
    "\n",
    "if score >= 90:\n",
    "    print(\"A\")\n",
    "elif score >= 80:\n",
    "    print(\"B\")\n",
    "elif score >= 70:\n",
    "    print(\"C\")\n",
    "else:\n",
    "    print(\"F\")\n"
   ]
  }
 ],
 "metadata": {
  "language_info": {
   "name": "python"
  }
 },
 "nbformat": 4,
 "nbformat_minor": 2
}
