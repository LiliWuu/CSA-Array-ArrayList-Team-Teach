{
 "cells": [
  {
   "cell_type": "raw",
   "metadata": {
    "vscode": {
     "languageId": "raw"
    }
   },
   "source": [
    "---\n",
    "toc: false\n",
    "comments: true\n",
    "layout: post\n",
    "title: 3.1.3 Javascript Variables\n",
    "description: This lesson is about how variables work in javascript.\n",
    "permalink: /csp/big-idea/p3/3-1-3\n",
    "categories: [CSP Big Ideas]\n",
    "author:  Ahaan, Spencer, Vasanth, Xavier\n",
    "menu: nav/csp_units/csp_unit3_p3_fundamentals.html\n",
    "---"
   ]
  },
  {
   "cell_type": "markdown",
   "metadata": {},
   "source": [
    "<style>\n",
    "  /* Global styling for the notebook with dark background */\n",
    "  body {\n",
    "      font-family: 'Verdana', sans-serif;\n",
    "      background-color: #1e1e2f;\n",
    "      color: #d0d0d5;\n",
    "  }\n",
    "\n",
    "  /* Styling headers with balanced font sizes */\n",
    "  h1 {\n",
    "      color: #e2e2ff;\n",
    "      border-bottom: 2px solid #8e44ad;\n",
    "      padding-bottom: 5px;\n",
    "      margin-bottom: 15px;\n",
    "      font-size: 28px; /* Reduced size */\n",
    "  }\n",
    "\n",
    "  h2 {\n",
    "      color: #e2e2ff;\n",
    "      border-bottom: 2px solid #8e44ad;\n",
    "      padding-bottom: 5px;\n",
    "      margin-bottom: 15px;\n",
    "      font-size: 24px; /* Reduced size */\n",
    "  }\n",
    "\n",
    "  h3 {\n",
    "      color: #e2e2ff;\n",
    "      border-bottom: 2px solid #8e44ad;\n",
    "      padding-bottom: 5px;\n",
    "      margin-bottom: 15px;\n",
    "      font-size: 20px; /* Reduced size */\n",
    "  }\n",
    "\n",
    "  h4, h5 {\n",
    "      color: #e2e2ff;\n",
    "      border-bottom: 1px solid #8e44ad;\n",
    "      padding-bottom: 5px;\n",
    "      margin-bottom: 15px;\n",
    "      font-size: 18px; /* Reduced size */\n",
    "  }\n",
    "\n",
    "  /* Custom style for inline code */\n",
    "  code {\n",
    "      background-color: #2a2a3c;\n",
    "      color: #16a085;\n",
    "      padding: 3px 6px;\n",
    "      border-radius: 5px;\n",
    "  }\n",
    "\n",
    "  /* Custom style for preformatted code blocks */\n",
    "  pre {\n",
    "      background-color: #292b3b;\n",
    "      color: #f8f8f2;\n",
    "      padding: 10px;\n",
    "      border-radius: 6px;\n",
    "      border: 1px solid #9b59b6;\n",
    "      overflow-x: auto;\n",
    "  }\n",
    "\n",
    "  /* Code block syntax highlighting */\n",
    "  .hljs-keyword, .hljs-selector-tag, .hljs-subst {\n",
    "      color: #ff79c6; /* Keywords */\n",
    "  }\n",
    "\n",
    "  .hljs-string, .hljs-attr, .hljs-symbol, .hljs-bullet, .hljs-addition {\n",
    "      color: #50fa7b; /* Strings */\n",
    "  }\n",
    "\n",
    "  .hljs-title, .hljs-section, .hljs-attribute {\n",
    "      color: #f1fa8c; /* Function titles and sections */\n",
    "  }\n",
    "\n",
    "  .hljs-variable, .hljs-template-variable {\n",
    "      color: #bd93f9; /* Variables */\n",
    "  }\n",
    "\n",
    "  .hljs-comment, .hljs-quote, .hljs-deletion {\n",
    "      color: #6272a4; /* Comments */\n",
    "  }\n",
    "\n",
    "  .hljs-number, .hljs-regexp, .hljs-literal, .hljs-type, .hljs-built_in, .hljs-builtin-name {\n",
    "      color: #ffb86c; /* Numbers and built-ins */\n",
    "  }\n",
    "\n",
    "  .hljs-meta {\n",
    "      color: #8be9fd; /* Meta information */\n",
    "  }\n",
    "\n",
    "  .hljs-emphasis {\n",
    "      font-style: italic;\n",
    "  }\n",
    "\n",
    "  .hljs-strong {\n",
    "      font-weight: bold;\n",
    "  }\n",
    "\n",
    "  /* Highlight blockquotes with a teal left border */\n",
    "  blockquote {\n",
    "      border-left: 4px solid #1abc9c;\n",
    "      padding-left: 12px;\n",
    "      color: #d0d0d5;\n",
    "      font-style: italic;\n",
    "      background-color: #25273b;\n",
    "      padding: 12px;\n",
    "      border-radius: 5px;\n",
    "  }\n",
    "\n",
    "  /* Styling for emphasized text */\n",
    "  em {\n",
    "      color: #1abc9c; /* Teal color for emphasized text */\n",
    "      font-style: italic;\n",
    "  }\n",
    "\n",
    "  /* Style for bold text */\n",
    "  strong {\n",
    "      color: #e2e2ff;\n",
    "      font-weight: bold;\n",
    "  }\n",
    "\n",
    "  /* Menu styling */\n",
    "  .menu {\n",
    "      background-color: #3498db;\n",
    "      color: white;\n",
    "      padding: 12px;\n",
    "      border-radius: 6px;\n",
    "      text-align: center;\n",
    "  }\n",
    "\n",
    "  .menu a {\n",
    "      color: #f39c12; /* Yellow links in menu */\n",
    "      text-decoration: none;\n",
    "      padding: 0 12px;\n",
    "  }\n",
    "\n",
    "  .menu a:hover {\n",
    "      color: #e67e22; /* Orange on hover */\n",
    "  }\n",
    "\n",
    "  /* Adjust the styling for markdown lists */\n",
    "  ul {\n",
    "      list-style-type: circle;\n",
    "      color: #d0d0d5;\n",
    "  }\n",
    "\n",
    "  /* Styling tables with dark theme */\n",
    "  table {\n",
    "      border-collapse: collapse;\n",
    "      width: 100%;\n",
    "      background-color: #2a2a3c;\n",
    "  }\n",
    "  \n",
    "  table, th, td {\n",
    "      border: 1px solid #5f5f8f;\n",
    "      padding: 8px;\n",
    "      color: #e2e2ff;\n",
    "  }\n",
    "\n",
    "  th {\n",
    "      background-color: #8e44ad;\n",
    "      color: white;\n",
    "  }\n",
    "\n",
    "  /* Custom styling for links with better visibility */\n",
    "  a {\n",
    "      color: #16a085;\n",
    "      text-decoration: none;\n",
    "  }\n",
    "\n",
    "  a:hover {\n",
    "      text-decoration: underline;\n",
    "      color: #1abc9c;\n",
    "  }\n",
    "</style>\n"
   ]
  },
  {
   "cell_type": "markdown",
   "metadata": {},
   "source": [
    "### Variables\n",
    "Variables are containers that are used to store data in programming languages. In JavaScript there are 3 ways to declare a variable.\n",
    "1. var\n",
    "2. let\n",
    "3. const\n",
    "\n",
    "var is an outdated way of declaring variables, and so we will disregard teaching it as you will only use let and const.\n",
    "\n",
    "Const: Use when the variable shouldn't be reassigned.\n",
    "Let: Use when the variable's value may change over time."
   ]
  },
  {
   "cell_type": "code",
   "execution_count": null,
   "metadata": {
    "vscode": {
     "languageId": "javascript"
    }
   },
   "outputs": [],
   "source": [
    "%%js\n",
    "\n",
    "//Pi and user variables don't change\n",
    "const pi = 3.14159265358979;\n",
    "const user = \"Spencer\";\n",
    "\n",
    "//Count variable is being updated\n",
    "let count = 0;\n",
    "for (let i = 0; i < 10; i++) {\n",
    "    console.log(i)\n",
    "}"
   ]
  },
  {
   "cell_type": "markdown",
   "metadata": {},
   "source": [
    "### Assignment Operator\n",
    "JavaScript's assignment operator is equal (=) which assigns the value of the thing to the right to equal the variable to the left. The equal sign shouldn't be confused as equality, as it's exclusively reserved for assignment in programming languages.\n",
    "\n",
    "> **==** is used to test equality between two things"
   ]
  },
  {
   "cell_type": "code",
   "execution_count": null,
   "metadata": {
    "vscode": {
     "languageId": "javascript"
    }
   },
   "outputs": [],
   "source": [
    "%%js \n",
    "let x = 5\n",
    "let y = 3\n",
    "let z = 2"
   ]
  },
  {
   "cell_type": "markdown",
   "metadata": {
    "vscode": {
     "languageId": "javascript"
    }
   },
   "source": [
    "### Variable Naming\n",
    "There are some limitations when it comes to naming variables in JavaScript\n",
    "1. The name can only contain letters, digits, or the symbols $ and _.\n",
    "2. The variable musn't start with a digit\n",
    "\n",
    "Examples of valid & invalid variable names:"
   ]
  },
  {
   "cell_type": "code",
   "execution_count": null,
   "metadata": {
    "vscode": {
     "languageId": "javascript"
    }
   },
   "outputs": [],
   "source": [
    "%%js \n",
    "\n",
    "//Valid variable names\n",
    "let color;\n",
    "let _favoriteColor;\n",
    "\n",
    "//Invalid  variable names\n",
    "let 123badVariable;\n",
    "let my-age;\n",
    "\n"
   ]
  },
  {
   "cell_type": "markdown",
   "metadata": {},
   "source": [
    "### Naming Conventions\n",
    "\n",
    "When naming variables, it's an important skill to make clear, concise, and meaningful variable names. This will help your peers and your future self.\n",
    "\n",
    "Here are some guidelines to follow:\n",
    "\n",
    "- Use clear, human-readable names like `userName` or `shoppingCart`.\n",
    "- Avoid using cryptic abbreviations or single-letter names like `a`, `b`, or `c`, unless it’s absolutely clear what they mean.\n",
    "- Strive for names that are both descriptive and to the point. Generic names like `data` or `value` don’t provide much insight.\n",
    "- Stick to consistent terminology. If you refer to someone on your site as a “user,” stay consistent with terms like `currentUser` or `newUser` instead of changing it up with something like `currentVisitor`.\n",
    "\n",
    "Here are some examples:"
   ]
  },
  {
   "cell_type": "code",
   "execution_count": null,
   "metadata": {
    "vscode": {
     "languageId": "javascript"
    }
   },
   "outputs": [],
   "source": [
    "// BAD: unclear and too generic\n",
    "let a = 30;\n",
    "let data = \"John Doe\";\n",
    "let value = true;\n",
    "\n",
    "// GOOD: descriptive and clear\n",
    "let userAge = 30;\n",
    "let userName = \"John Doe\";\n",
    "let isUserLoggedIn = true;\n",
    "\n",
    "// BAD: abbreviations and short names\n",
    "let usrNm = \"Jane\";\n",
    "let c = 100;\n",
    "let t = new Date();\n",
    "\n",
    "// GOOD: human-readable and consistent\n",
    "let customerName = \"Jane\";\n",
    "let cartTotal = 100;\n",
    "let currentDate = new Date();\n",
    "\n",
    "// BAD: inconsistent terminology\n",
    "let visitorId = 123;\n",
    "let currentVisitor = \"John\";\n",
    "let siteMember = \"Jane\";\n",
    "\n",
    "// GOOD: consistent and concise\n",
    "let userId = 123;\n",
    "let currentUser = \"John\";\n",
    "let newUser = \"Jane\";\n"
   ]
  }
 ],
 "metadata": {
  "kernelspec": {
   "display_name": "Python 3 (ipykernel)",
   "language": "python",
   "name": "python3"
  },
  "language_info": {
   "codemirror_mode": {
    "name": "ipython",
    "version": 3
   },
   "file_extension": ".py",
   "mimetype": "text/x-python",
   "name": "python",
   "nbconvert_exporter": "python",
   "pygments_lexer": "ipython3",
   "version": "3.10.12"
  }
 },
 "nbformat": 4,
 "nbformat_minor": 2
}
