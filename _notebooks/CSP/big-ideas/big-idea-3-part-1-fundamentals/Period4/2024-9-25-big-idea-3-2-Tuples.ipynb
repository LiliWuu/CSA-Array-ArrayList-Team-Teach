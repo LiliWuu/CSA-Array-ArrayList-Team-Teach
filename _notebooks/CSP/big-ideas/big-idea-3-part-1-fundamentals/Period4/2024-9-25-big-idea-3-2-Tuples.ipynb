{
 "cells": [
  {
   "cell_type": "raw",
   "metadata": {
    "vscode": {
     "languageId": "raw"
    }
   },
   "source": [
    "---\n",
    "toc: false\n",
    "comments: true\n",
    "layout: post\n",
    "title: 3.8.3 Tuples\n",
    "description: Student led teaching on Python Types. Learn how to do loops with Java and Python.\n",
    "permalink: /csp/big-idea/p2/3-8-3\n",
    "categories: [CSP Big Ideas]\n",
    "author:  Thomas Bao, Ian Managan, Collin Ge, Aarush Kota\n",
    "menu: nav/csp_units/csp_unit3_p2_fundamentals.html\n",
    "---"
   ]
  },
  {
   "cell_type": "markdown",
   "metadata": {},
   "source": [
    "# Tuple in Python\n",
    "\n",
    "A **tuple** is a collection of items in Python that cannot be changed after it's created. It is similar to a list but **immutable** (cannot be modified).\n",
    "\n",
    "## Key points:\n",
    "- **Ordered**: The items keep their order.\n",
    "- **Immutable**: You cannot change the items.\n",
    "- **Can hold different types**: Tuples can store numbers, strings, etc.\n",
    "- **Indexed**: You can access items using an index, starting at 0.\n",
    "\n",
    "## Syntax:\n",
    "```python\n",
    "my_tuple = (item1, item2, item3)\n"
   ]
  },
  {
   "cell_type": "markdown",
   "metadata": {},
   "source": [
    "## Example: A Tuple of Mixed Data Types\n",
    "\n",
    "```python\n",
    "# A tuple of mixed data types\n",
    "person = (\"Alice\", 30, \"Engineer\")\n",
    "# This creates a tuple called `person` with three items:\n",
    "# - \"Alice\" (a string)\n",
    "# - 30 (an integer)\n",
    "# - \"Engineer\" (a string)\n",
    "\n",
    "# Accessing elements using index\n",
    "print(person[0])  # Output: Alice\n",
    "# `person[0]` returns \"Alice\" (the first item in the tuple)\n",
    "print(person[1])  # Output: 30\n",
    "# `person[1]` returns 30 (the second item in the tuple)\n",
    "\n",
    "# Tuple unpacking\n",
    "name, age, profession = person\n",
    "# This unpacks the tuple into three variables:\n",
    "# - `name` gets \"Alice\"\n",
    "# - `age` gets 30\n",
    "# - `profession` gets \"Engineer\"\n",
    "\n",
    "print(name)       # Output: Alice\n",
    "# `print(name)` outputs \"Alice\"\n",
    "print(profession) # Output: Engineer\n",
    "# `print(profession)` outputs \"Engineer\"\n",
    "\n"
   ]
  },
  {
   "cell_type": "markdown",
   "metadata": {},
   "source": [
    "# A simple contact book using tuples\n",
    "\n",
    "# Function to add a contact\n",
    "def add_contact(contact_book, name, phone, email):\n",
    "    contact = (name, phone, email)\n",
    "    contact_book.append(contact)\n",
    "\n",
    "# Function to display contacts\n",
    "def display_contacts(contact_book):\n",
    "    for index, contact in enumerate(contact_book):\n",
    "        name, phone, email = contact\n",
    "        print(f\"{index + 1}. Name: {name}, Phone: {phone}, Email: {email}\")\n",
    "\n",
    "# Initialize an empty contact book\n",
    "contact_book = []\n",
    "\n",
    "# Add some contacts\n",
    "add_contact(contact_book, \"Alice\", \"123-456-7890\", \"alice@example.com\")\n",
    "add_contact(contact_book, \"Bob\", \"987-654-3210\", \"bob@example.com\")\n",
    "add_contact(contact_book, \"Charlie\", \"555-555-5555\", \"charlie@example.com\")\n",
    "\n",
    "# Display all contacts\n",
    "print(\"Contact Book:\")\n",
    "display_contacts(contact_book)\n"
   ]
  }
 ],
 "metadata": {
  "kernelspec": {
   "display_name": "venv",
   "language": "python",
   "name": "python3"
  },
  "language_info": {
   "name": "python",
   "version": "3.12.5"
  }
 },
 "nbformat": 4,
 "nbformat_minor": 2
}
