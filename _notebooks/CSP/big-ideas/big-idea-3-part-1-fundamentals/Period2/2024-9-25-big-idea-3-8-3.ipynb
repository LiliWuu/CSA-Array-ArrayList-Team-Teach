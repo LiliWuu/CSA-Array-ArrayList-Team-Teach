{
 "cells": [
  {
   "cell_type": "raw",
   "metadata": {
    "vscode": {
     "languageId": "raw"
    }
   },
   "source": [
    "---\n",
    "toc: false\n",
    "comments: true\n",
    "layout: post\n",
    "title: 3.8.3 Index Loops\n",
    "description: Student led teaching on Iteration. Learn how to do loops with Java and Python.\n",
    "permalink: /csp/big-idea/p2/3-8-3\n",
    "categories: [CSP Big Ideas]\n",
    "author:  Arshia, Mirabelle, Alejandro, Prajna\n",
    "menu: nav/csp_units/csp_unit3_p2_fundamentals.html\n",
    "---"
   ]
  },
  {
   "cell_type": "code",
   "execution_count": 2,
   "metadata": {},
   "outputs": [
    {
     "name": "stdout",
     "output_type": "stream",
     "text": [
      "Index 0: Item 1\n",
      "Index 1: Item 2\n",
      "Index 2: Item 3\n",
      "Index 3: Item 4\n",
      "Index 4: Item 5\n"
     ]
    }
   ],
   "source": [
    "# List of items\n",
    "items = [\"Item 1\", \"Item 2\", \"Item 3\", \"Item 4\", \"Item 5\"]\n",
    "\n",
    "# Loop through the items list and print each item with its index\n",
    "for index, item in enumerate(items):\n",
    "    print(f\"Index {index}: {item}\")\n"
   ]
  }
 ],
 "metadata": {
  "kernelspec": {
   "display_name": "venv",
   "language": "python",
   "name": "python3"
  },
  "language_info": {
   "name": "python",
   "version": "3.12.5"
  }
 },
 "nbformat": 4,
 "nbformat_minor": 2
}
