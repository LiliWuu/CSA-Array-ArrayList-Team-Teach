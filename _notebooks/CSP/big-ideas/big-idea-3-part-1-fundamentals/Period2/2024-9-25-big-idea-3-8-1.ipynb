{
 "cells": [
  {
   "cell_type": "raw",
   "metadata": {
    "vscode": {
     "languageId": "raw"
    }
   },
   "source": [
    "---\n",
    "toc: false\n",
    "comments: true\n",
    "layout: post\n",
    "title: 3.8.1 For Loops \n",
    "description: Student led teaching on Iteration. Learn how to do loops with Java and Python.\n",
    "permalink: /csp/big-idea/p2/3-8-1\n",
    "categories: [CSP Big Ideas]\n",
    "author:  Arshia, Mirabelle, Alejandro, Prajna\n",
    "menu: nav/csp_units/csp_unit3_p2_fundamentals.html\n",
    "---"
   ]
  },
  {
   "cell_type": "raw",
   "metadata": {},
   "source": [
    "## For Loops \n",
    "- A for loop is used in python for iterating over a sequence of code. \n",
    "- Through using a for loop, we can execute a set of commands that are in a list or set.\n",
    "-  Here is an example"
   ]
  },
  {
   "cell_type": "code",
   "execution_count": 3,
   "metadata": {},
   "outputs": [
    {
     "name": "stdout",
     "output_type": "stream",
     "text": [
      "cucumbers\n",
      "avocado\n",
      "carrots\n"
     ]
    }
   ],
   "source": [
    "vegatables = [\"cucumbers\", \"avocado\", \"carrots\"]\n",
    "for x in vegatables:\n",
    "  print(x)"
   ]
  },
  {
   "cell_type": "raw",
   "metadata": {},
   "source": [
    "## Looping Through a String \n",
    "- Even strings are iterable objects and contain a sequence of characters \n",
    "- Here in an example"
   ]
  },
  {
   "cell_type": "code",
   "execution_count": 5,
   "metadata": {},
   "outputs": [
    {
     "name": "stdout",
     "output_type": "stream",
     "text": [
      "a\n",
      "v\n",
      "o\n",
      "c\n",
      "a\n",
      "d\n",
      "o\n"
     ]
    }
   ],
   "source": [
    "for x in \"avocado\":\n",
    "  print(x) "
   ]
  },
  {
   "cell_type": "raw",
   "metadata": {},
   "source": [
    "## The Break Statement\n",
    "- A break statement can aid us in stopping a loop before it has loops all the items. \n",
    "- Here is an example"
   ]
  },
  {
   "cell_type": "code",
   "execution_count": 6,
   "metadata": {},
   "outputs": [
    {
     "name": "stdout",
     "output_type": "stream",
     "text": [
      "cucumbers\n",
      "avocado\n"
     ]
    }
   ],
   "source": [
    "vegatables = [\"cucumbers\", \"avocado\", \"carrots\"]\n",
    "for x in vegatables:\n",
    "  print(x)\n",
    "  if x == \"avocado\":\n",
    "    break"
   ]
  }
 ],
 "metadata": {
  "kernelspec": {
   "display_name": "venv",
   "language": "python",
   "name": "python3"
  },
  "language_info": {
   "codemirror_mode": {
    "name": "ipython",
    "version": 3
   },
   "file_extension": ".py",
   "mimetype": "text/x-python",
   "name": "python",
   "nbconvert_exporter": "python",
   "pygments_lexer": "ipython3",
   "version": "3.10.12"
  }
 },
 "nbformat": 4,
 "nbformat_minor": 2
}
