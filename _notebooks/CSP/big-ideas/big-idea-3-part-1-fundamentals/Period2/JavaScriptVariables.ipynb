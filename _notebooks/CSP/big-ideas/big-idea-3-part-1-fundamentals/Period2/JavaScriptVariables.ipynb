{
 "cells": [
  {
   "cell_type": "markdown",
   "metadata": {},
   "source": [
    "# Big Idea 3: Algorithms and Programming\n",
    "\n",
    "This lesson discusses the essential concepts of algorithms and programming that are necessary to solve computational problems.\n",
    "\n",
    "### Lesson Plan\n",
    "\n",
    "1. **Understanding Algorithms**:\n",
    "   - What is an algorithm?\n",
    "   - Importance of algorithms in programming.\n",
    "   - Real-life examples of algorithms.\n",
    "\n",
    "2. **Creating Algorithms**:\n",
    "   - How to create a step-by-step solution to a problem.\n",
    "   - Using pseudocode to design algorithms.\n",
    "\n",
    "3. **Basic Programming Concepts**:\n",
    "   - Variables\n",
    "   - Conditionals (if-else)\n",
    "   - Loops (for, while)\n",
    "   - Functions\n"
   ]
  },
  {
   "cell_type": "code",
   "execution_count": 5,
   "metadata": {
    "vscode": {
     "languageId": "javascript"
    }
   },
   "outputs": [
    {
     "data": {
      "application/javascript": "// Declaring variables\nvar num1 = 10;\nvar num2 = 20;\nvar result = num1 + num2;\n\n// Output result\nconsole.log(\"The result of adding num1 and num2 is: \" + result);\n\n// Performing other operations\nvar product = num1 * num2;\nconsole.log(\"The result of multiplying num1 and num2 is: \" + product);\n\n// Displaying result in the notebook\nelement.append(\"The result of num1 + num2 is: \" + result + \"<br>\");\nelement.append(\"The result of num1 * num2 is: \" + product + \"<br>\");\n",
      "text/plain": [
       "<IPython.core.display.Javascript object>"
      ]
     },
     "metadata": {},
     "output_type": "display_data"
    }
   ],
   "source": [
    "%%javascript\n",
    "// Declaring variables\n",
    "var num1 = 10;\n",
    "var num2 = 20;\n",
    "var result = num1 + num2;\n",
    "\n",
    "// Output result\n",
    "console.log(\"The result of adding num1 and num2 is: \" + result);\n",
    "\n",
    "// Performing other operations\n",
    "var product = num1 * num2;\n",
    "console.log(\"The result of multiplying num1 and num2 is: \" + product);\n",
    "\n",
    "// Displaying result in the notebook\n",
    "element.append(\"The result of num1 + num2 is: \" + result + \"<br>\");\n",
    "element.append(\"The result of num1 * num2 is: \" + product + \"<br>\");\n"
   ]
  },
  {
   "cell_type": "markdown",
   "metadata": {},
   "source": [
    "### Interactive Exercises\n",
    "\n",
    "1. **Exercise 1**: Write pseudocode for a simple algorithm that finds the maximum of three numbers.\n",
    "2. **Exercise 2**: Convert your pseudocode to Python code.\n",
    "3. **Exercise 3**: Create a Python program to count the occurrences of a letter in a string.\n",
    "4. **Exercise 4**: Write a Python function that calculates the factorial of a number using recursion.\n",
    "\n",
    "### Summary\n",
    "By the end of this lesson, students should have a solid understanding of how algorithms are fundamental to programming and how basic programming constructs can be used to create solutions for computational problems."
   ]
  },
  {
   "cell_type": "code",
   "execution_count": 6,
   "metadata": {
    "vscode": {
     "languageId": "javascript"
    }
   },
   "outputs": [
    {
     "data": {
      "application/javascript": "// Example of a JavaScript object (dictionary-like structure)\nconst studentData = {\n  name: \"Arhaan Memon\",\n  grade: 10,\n  interests: [\"Basketball\", \"Computer Science\", \"Data Analytics\"]\n};\n\n// Looping through the object using `for...in` to print key-value pairs\nfor (let key in studentData) {\n  console.log(key + \": \" + studentData[key]);\n}\n\n// Displaying data in the notebook output\nelement.append(\"Name: \" + studentData.name + \"<br>\");\nelement.append(\"Grade: \" + studentData.grade + \"<br>\");\nelement.append(\"Interests: \" + studentData.interests.join(\", \") + \"<br>\");\n",
      "text/plain": [
       "<IPython.core.display.Javascript object>"
      ]
     },
     "metadata": {},
     "output_type": "display_data"
    }
   ],
   "source": [
    "%%javascript\n",
    "// Example of a JavaScript object (dictionary-like structure)\n",
    "const studentData = {\n",
    "  name: \"Arhaan Memon\",\n",
    "  grade: 10,\n",
    "  interests: [\"Basketball\", \"Computer Science\", \"Data Analytics\"]\n",
    "};\n",
    "\n",
    "// Looping through the object using `for...in` to print key-value pairs\n",
    "for (let key in studentData) {\n",
    "  console.log(key + \": \" + studentData[key]);\n",
    "}\n",
    "\n",
    "// Displaying data in the notebook output\n",
    "element.append(\"Name: \" + studentData.name + \"<br>\");\n",
    "element.append(\"Grade: \" + studentData.grade + \"<br>\");\n",
    "element.append(\"Interests: \" + studentData.interests.join(\", \") + \"<br>\");\n",
    "//End code\n"
   ]
  }
 ],
 "metadata": {
  "kernelspec": {
   "display_name": "Python 3",
   "language": "python",
   "name": "python3"
  },
  "language_info": {
   "codemirror_mode": {
    "name": "ipython",
    "version": 3
   },
   "file_extension": ".py",
   "mimetype": "text/x-python",
   "name": "python",
   "nbconvert_exporter": "python",
   "pygments_lexer": "ipython3",
   "version": "3.11.5"
  }
 },
 "nbformat": 4,
 "nbformat_minor": 2
}
