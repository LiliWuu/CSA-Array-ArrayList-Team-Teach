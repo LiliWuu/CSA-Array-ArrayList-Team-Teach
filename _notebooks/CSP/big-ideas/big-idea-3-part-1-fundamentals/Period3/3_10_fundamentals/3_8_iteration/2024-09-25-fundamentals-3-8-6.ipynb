{
 "cells": [
  {
   "cell_type": "markdown",
   "metadata": {},
   "source": [
    "---\n",
    "toc: false\n",
    "comments: true\n",
    "layout: post\n",
    "title: 3.8 Nested If statements\n",
    "description: Learn about nested if statements in loops\n",
    "permalink: /csp/big-idea/p3/3-8-6\n",
    "categories: [CSP Big Ideas]\n",
    "author:  Nikhil, Hithin, Armaghan, Elliot\n",
    "menu: nav/csp_units/csp_unit3_p3_fundamentals.html\n",
    "---"
   ]
  },
  {
   "cell_type": "markdown",
   "metadata": {},
   "source": [
    "Nested If Statements"
   ]
  },
  {
   "cell_type": "code",
   "execution_count": 1,
   "metadata": {},
   "outputs": [
    {
     "name": "stdout",
     "output_type": "stream",
     "text": [
      "5 is odd\n"
     ]
    }
   ],
   "source": [
    "numbers = [1, 2, 3, 4, 5]\n",
    "for num in numbers:1\n",
    "if num % 2 == 0:  # Check if the number is even\n",
    "        print(num, \"is even\")\n",
    "else:  # If it's not even, it must be odd\n",
    "        print(num, \"is odd\")\n"
   ]
  },
  {
   "cell_type": "markdown",
   "metadata": {},
   "source": [
    "Practice Problem"
   ]
  },
  {
   "cell_type": "code",
   "execution_count": null,
   "metadata": {},
   "outputs": [],
   "source": [
    "# List of numbers\n",
    "numbers = [10, -5, 7, -3]\n",
    "\n",
    "# Your task: Write a loop with nested if statements to print whether each number is positive or negative\n"
   ]
  }
 ],
 "metadata": {
  "kernelspec": {
   "display_name": "venv",
   "language": "python",
   "name": "python3"
  },
  "language_info": {
   "codemirror_mode": {
    "name": "ipython",
    "version": 3
   },
   "file_extension": ".py",
   "mimetype": "text/x-python",
   "name": "python",
   "nbconvert_exporter": "python",
   "pygments_lexer": "ipython3",
   "version": "3.12.4"
  }
 },
 "nbformat": 4,
 "nbformat_minor": 2
}
