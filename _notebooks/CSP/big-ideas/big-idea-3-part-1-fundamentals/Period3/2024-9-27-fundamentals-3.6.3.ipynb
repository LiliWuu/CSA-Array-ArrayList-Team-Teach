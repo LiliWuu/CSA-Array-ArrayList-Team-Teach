{
 "cells": [
  {
   "cell_type": "markdown",
   "metadata": {},
   "source": [
    "---\n",
    "layout: post\n",
    "comments: true\n",
    "title: Programming Fundamentals - P3 \n",
    "permalink: /csp/big-idea/p3/3-6-3\n",
    "---\n",
    "\n",
    "## Python Conditionals:\n",
    "\n",
    "### `if` statement:\n",
    "This checks a condition. If the condition evaluates to `True`, the code block under the `if` statement is executed.\n",
    "\n",
    "### `elif` statement:\n",
    "This is short for \"else if\" in Python. It allows you to check multiple conditions after the `if` statement. If the first condition is `False`, but this one is `True`, it runs.\n",
    "\n",
    "### `else` statement:\n",
    "If none of the previous conditions are `True`, the code under `else` is executed.\n",
    "\n",
    "---\n",
    "\n",
    "## Example of Python Conditionals:\n",
    "\n",
    "```python\n",
    "age = 18\n",
    "\n",
    "if age < 18:\n",
    "    print(\"You are a minor.\")\n",
    "elif age == 18:\n",
    "    print(\"You just became an adult!\")\n",
    "else:\n",
    "    print(\"You are an adult.\")\n"
   ]
  }
 ],
 "metadata": {
  "language_info": {
   "name": "python"
  }
 },
 "nbformat": 4,
 "nbformat_minor": 2
}
