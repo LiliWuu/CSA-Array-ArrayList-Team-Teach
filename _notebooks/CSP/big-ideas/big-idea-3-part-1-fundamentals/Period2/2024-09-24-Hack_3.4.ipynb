{
 "cells": [
  {
   "cell_type": "code",
   "execution_count": null,
   "metadata": {},
   "outputs": [],
   "source": [
    "# String Operations in Python\n",
    "\n",
    "\n"
   ]
  },
  {
   "cell_type": "markdown",
   "metadata": {},
   "source": [
    "# String Operations in Python\n",
    "\n",
    "Strings are an ordered sequence of characters, which can include letters, numbers, or even spaces. A **substring** is part of an existing string. Various procedures are available in Python for working with strings."
   ]
  },
  {
   "cell_type": "markdown",
   "metadata": {},
   "source": [
    "## Len Function\n",
    "\n",
    "The len function returns the number of characters in a string. \n",
    "\n",
    "For example:"
   ]
  },
  {
   "cell_type": "code",
   "execution_count": 1,
   "metadata": {},
   "outputs": [
    {
     "data": {
      "text/plain": [
       "5"
      ]
     },
     "execution_count": 1,
     "metadata": {},
     "output_type": "execute_result"
    }
   ],
   "source": [
    "len (\"APCSP\")"
   ]
  },
  {
   "cell_type": "markdown",
   "metadata": {},
   "source": [
    "This function will return 5, which is the number of characters in the string \"APCSP\""
   ]
  },
  {
   "cell_type": "markdown",
   "metadata": {},
   "source": [
    "## Concat Feature\n",
    "\n",
    "The concat function merges both strings together. For example, if I wanted to say Hi Bob, instead of writing \"Hi Bob\" as a string, I could concat the string to say Hi + Bob. For example:\n"
   ]
  },
  {
   "cell_type": "code",
   "execution_count": null,
   "metadata": {},
   "outputs": [],
   "source": [
    "concat = \"Hi\" + \"Bob\"\n",
    "\n",
    "print(concat)\n",
    "\n"
   ]
  },
  {
   "cell_type": "markdown",
   "metadata": {},
   "source": [
    "Note that you don't actually have to use concat =, the concat serves as a function you can do even when the variable is not named concat. For example:"
   ]
  },
  {
   "cell_type": "code",
   "execution_count": 3,
   "metadata": {},
   "outputs": [
    {
     "name": "stdout",
     "output_type": "stream",
     "text": [
      "The quick brown foxjumped over the lazy dog\n"
     ]
    }
   ],
   "source": [
    "story = \"The quick brown fox\" + \"jumped over the lazy dog\"\n",
    "\n",
    "print(story)"
   ]
  },
  {
   "cell_type": "markdown",
   "metadata": {},
   "source": [
    "Now let's recap what we've learned with...:\n",
    "\n",
    "# Popcorn Hack #4\n",
    "Here we're going to start off by finding the number of characters in our last name. I'll be using my last name as an example."
   ]
  },
  {
   "cell_type": "code",
   "execution_count": null,
   "metadata": {},
   "outputs": [],
   "source": [
    "length = len(\"Thaha\")\n",
    "\n",
    "print(length)"
   ]
  },
  {
   "cell_type": "markdown",
   "metadata": {},
   "source": [
    "I'll now use the concat feature to "
   ]
  }
 ],
 "metadata": {
  "kernelspec": {
   "display_name": "Python 3",
   "language": "python",
   "name": "python3"
  },
  "language_info": {
   "codemirror_mode": {
    "name": "ipython",
    "version": 3
   },
   "file_extension": ".py",
   "mimetype": "text/x-python",
   "name": "python",
   "nbconvert_exporter": "python",
   "pygments_lexer": "ipython3",
   "version": "3.12.3"
  }
 },
 "nbformat": 4,
 "nbformat_minor": 2
}
