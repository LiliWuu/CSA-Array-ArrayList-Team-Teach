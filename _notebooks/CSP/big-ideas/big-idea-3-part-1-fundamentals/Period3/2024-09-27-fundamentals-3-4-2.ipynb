{
 "cells": [
  {
   "cell_type": "raw",
   "metadata": {
    "vscode": {
     "languageId": "raw"
    }
   },
   "source": [
    "---\n",
    "toc: false\n",
    "comments: true\n",
    "layout: post\n",
    "title: 3.4 Homework\n",
    "description: This is homework on strings! Here you'll practice your skills.\n",
    "permalink: /csp/big-idea/p3/3-4-2\n",
    "categories: [CSP Big Ideas]\n",
    "author:  Ahaan, Spencer, Vasanth, Xavier\n",
    "menu: nav/csp_units/csp_unit3_p3_fundamentals.html\n",
    "---"
   ]
  },
  {
   "cell_type": "markdown",
   "metadata": {},
   "source": [
    "## Hacks / Homework\n",
    "- Hack 1: Write a Python function that takes a string as input and returns the string reversed.\n",
    "- Hack 2: Create a Python program that counts the number of vowels ('a', 'e', 'i', 'o', 'u') in a given string.\n",
    "- Hack 3: Given a string, write a function to replace all occurrences of the substring 'abc' with 'xyz'.\n",
    "- Hack 4: Write a function that checks if a given string is a palindrome (reads the same forward and backward), ignoring spaces, punctuation, and case.\n",
    "- Hack 5: Write a program that finds and returns the longest word in a given sentence.\n",
    "\n",
    "**CHALLENGING QUESTION:**\n",
    "- Hack 6: Given a string containing both letters and digits, write a function that extracts all the numbers, sums them up, and returns the total."
   ]
  },
  {
   "cell_type": "markdown",
   "metadata": {},
   "source": [
    "## Javascript Hacks/Homework \n",
    "\n",
    "It is important to also practice our skills in Javascript, so lets practice. \n",
    "\n",
    "### Palindrome Checker\n",
    "Write a function that checks if a given string is a palindrome (a word that reads the same backward as forward)."
   ]
  },
  {
   "cell_type": "code",
   "execution_count": 9,
   "metadata": {
    "vscode": {
     "languageId": "javascript"
    }
   },
   "outputs": [
    {
     "data": {
      "application/javascript": "\nfunction isPalindrome(str) {\n    let cleanStr = str.toLowerCase().replace(/[^a-z0-9]/g, ''); // Clean up the string by removing non-alphanumeric characters\n    let reversedStr = cleanStr.split('').reverse().join('');\n    return cleanStr === reversedStr;\n}\n\nconsole.log(isPalindrome(\"A man, a plan, a canal, Panama\")); // Output: true\nconsole.log(isPalindrome(\"hello\"));                          // Output: false\n",
      "text/plain": [
       "<IPython.core.display.Javascript object>"
      ]
     },
     "metadata": {},
     "output_type": "display_data"
    }
   ],
   "source": [
    "%%js\n",
    "\n",
    "function isPalindrome(str) {\n",
    "    let cleanStr = str.toLowerCase().replace(/[^a-z0-9]/g, ''); // Clean up the string by removing non-alphanumeric characters\n",
    "    let reversedStr = cleanStr.split('').reverse().join('');\n",
    "    return cleanStr === reversedStr;\n",
    "}\n",
    "\n",
    "console.log(isPalindrome(\"A man, a plan, a canal, Panama\")); // Output: true\n",
    "console.log(isPalindrome(\"hello\"));                          // Output: false\n"
   ]
  },
  {
   "cell_type": "markdown",
   "metadata": {},
   "source": [
    "<script src=\"https://utteranc.es/client.js\"\n",
    "        repo=\"XavierTho/sprint_2\"\n",
    "        issue-term=\"pathname\"\n",
    "        theme=\"github-light\"\n",
    "        crossorigin=\"anonymous\"\n",
    "        async>\n",
    "</script>"
   ]
  }
 ],
 "metadata": {
  "kernelspec": {
   "display_name": "venv",
   "language": "python",
   "name": "python3"
  },
  "language_info": {
   "codemirror_mode": {
    "name": "ipython",
    "version": 3
   },
   "file_extension": ".py",
   "mimetype": "text/x-python",
   "name": "python",
   "nbconvert_exporter": "python",
   "pygments_lexer": "ipython3",
   "version": "3.12.6"
  }
 },
 "nbformat": 4,
 "nbformat_minor": 2
}
