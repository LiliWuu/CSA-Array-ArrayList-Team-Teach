{
 "cells": [
  {
   "cell_type": "raw",
   "metadata": {
    "vscode": {
     "languageId": "raw"
    }
   },
   "source": [
    "\n",
    "Conditionals in both JavaScript and Python are used to execute code only if certain conditions are true. They allow programs to make decisions based on logical tests, and are essential in controlling the flow of execution in programs."
   ]
  },
  {
   "cell_type": "code",
   "execution_count": null,
   "metadata": {},
   "outputs": [],
   "source": [
    "# Example of Python Conditionals\n",
    "\n",
    "score = 85\n",
    "\n",
    "if score >= 90:\n",
    "    print(\"A\")\n",
    "elif score >= 80:\n",
    "    print(\"B\")\n",
    "elif score >= 70:\n",
    "    print(\"C\")\n",
    "else:\n",
    "    print(\"F\")\n"
   ]
  },
  {
   "cell_type": "raw",
   "metadata": {
    "vscode": {
     "languageId": "raw"
    }
   },
   "source": [
    "Important Notes:\n",
    "Conditions are usually comparisons (e.g., score >= 90), and they evaluate to either True or False.\n",
    "Indentation is important in Python. Unlike JavaScript, which uses curly braces {} to define code blocks, Python uses indentation to signify the beginning and end of code blocks.\n"
   ]
  },
  {
   "cell_type": "code",
   "execution_count": null,
   "metadata": {
    "vscode": {
     "languageId": "javascript"
    }
   },
   "outputs": [],
   "source": [
    "javascript\n",
    "// Example of JavaScript Conditionals\n",
    "\n",
    "let score = 85;\n",
    "\n",
    "if (score >= 90) {\n",
    "  console.log(\"A\");\n",
    "} else if (score >= 80) {\n",
    "  console.log(\"B\");\n",
    "} else if (score >= 70) {\n",
    "  console.log(\"C\");\n",
    "} else {\n",
    "  console.log(\"F\");\n",
    "}\n"
   ]
  }
 ],
 "metadata": {
  "language_info": {
   "name": "python"
  }
 },
 "nbformat": 4,
 "nbformat_minor": 2
}
