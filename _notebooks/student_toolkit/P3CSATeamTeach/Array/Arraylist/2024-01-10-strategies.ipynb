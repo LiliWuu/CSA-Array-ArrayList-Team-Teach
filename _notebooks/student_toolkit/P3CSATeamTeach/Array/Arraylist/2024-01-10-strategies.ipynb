{
 "cells": [
  {
   "cell_type": "markdown",
   "metadata": {},
   "source": [
    "---\n",
    "layout: post\n",
    "toc: true\n",
    "title: Array/Arraylist\n",
    "description: AP CSA FRQ Array/Arraylist Strategies\n",
    "courses: { csa: {week: 1} }\n",
    "type: ccc\n",
    "categories: [AP CSA]\n",
    "menu: nav/student_toolkit/P3CSATeamTeach/array.html\n",
    "permalink: /teamteach/array/strategies\n",
    "---"
   ]
  },
  {
   "cell_type": "markdown",
   "metadata": {},
   "source": [
    "# Array/Arraylist Review\n",
    "\n",
    "### Array\n",
    "- fixed sized\n",
    "- single *or* multidimensional\n",
    "\n",
    "![image](https://github.com/user-attachments/assets/b4cef2ae-4185-4f82-8df1-6545c06a9734)\n",
    "\n",
    "**How to Create Arrays:**\n",
    "1. Declare\n",
    "\n",
    "```java\n",
    "int[] arr1;\n",
    "int[] arr2;\n",
    "```\n",
    "2. Initialize\n",
    "\n",
    "```java\n",
    "//separating declare and initialize\n",
    "arr1 = new int[5];\n",
    "arr2 = new int[]{1,2,3};\n",
    "\n",
    "// declare and initialize at the same time\n",
    "int[] arr1 = new int[5];\n",
    "int[] arr2 = {1,2,3}; // an array literal\n",
    "```\n",
    "\n",
    "3. Access\n",
    "\n",
    "```java\n",
    "arr2[0] // accesses the first element in the array: 1\n",
    "```\n"
   ]
  },
  {
   "cell_type": "markdown",
   "metadata": {},
   "source": [
    "### Arraylist\n",
    "- resizable\n",
    "- uses *methods* to access and modify elements\n",
    "- typically stores objects\n",
    "\n",
    "**How to Create Arraylists:**\n",
    "1. Declare and Initialize\n",
    "\n",
    "```java\n",
    "ArrayList<String> al = new ArrayList<>();\n",
    "```\n",
    "\n",
    "2. Basic Operations\n",
    "\n",
    "Insertion\n",
    "```java\n",
    "al.add(\"apple\");\n",
    "al.add(\"orange\");\n",
    "al.add(\"banana\");\n",
    "```\n",
    "Deletion\n",
    "```java\n",
    "al.remove(\"orange\");\n",
    "```\n",
    "Update\n",
    "```java\n",
    "al.set(0, \"kiwi\");\n",
    "```"
   ]
  },
  {
   "cell_type": "markdown",
   "metadata": {
    "vscode": {
     "languageId": "plaintext"
    }
   },
   "source": [
    "***\n",
    "***"
   ]
  },
  {
   "cell_type": "markdown",
   "metadata": {
    "vscode": {
     "languageId": "plaintext"
    }
   },
   "source": [
    "# Before Coding\n",
    "\n",
    "### Planning\n",
    "### Writing Pseudo Code"
   ]
  },
  {
   "cell_type": "markdown",
   "metadata": {},
   "source": [
    "***\n",
    "***"
   ]
  },
  {
   "cell_type": "markdown",
   "metadata": {},
   "source": [
    "# Debugging Code\n",
    "### Catching Errors\n",
    "### Common Mistakes\n"
   ]
  },
  {
   "cell_type": "markdown",
   "metadata": {},
   "source": [
    "***\n",
    "***"
   ]
  },
  {
   "cell_type": "markdown",
   "metadata": {},
   "source": [
    "# Getting Points"
   ]
  }
 ],
 "metadata": {
  "language_info": {
   "name": "python"
  }
 },
 "nbformat": 4,
 "nbformat_minor": 2
}
