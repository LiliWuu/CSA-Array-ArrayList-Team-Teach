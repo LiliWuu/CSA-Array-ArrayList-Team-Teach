{
 "cells": [
  {
   "cell_type": "markdown",
   "metadata": {},
   "source": [
    "---\n",
    "toc: false\n",
    "comments: true\n",
    "layout: post\n",
    "title: 3.10.4 Lists\n",
    "description: Student led teaching on Lists. Learn how storage and manipulation of multiple items using indexing to access individual elements.\n",
    "permalink: /csp/big-idea/3-10-4\n",
    "author:  Alex, Daksha, Darsh, Zach\n",
    "menu: nav/csp_units/csp_unit3_p2_bigideas_3-10.html\n",
    "---"
   ]
  }
 ],
 "metadata": {
  "language_info": {
   "name": "python"
  }
 },
 "nbformat": 4,
 "nbformat_minor": 2
}
