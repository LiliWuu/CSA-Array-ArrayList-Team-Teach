{
 "cells": [
  {
   "cell_type": "markdown",
   "metadata": {
    "vscode": {
     "languageId": "raw"
    }
   },
   "source": [
    "---\n",
    "layout: post\n",
    "title: \"3.8 Recursion\"\n",
    "description: My subsection for 3.8 group project\n",
    "permalink: /Iteration_Recursion/\n",
    "type: issues\n",
    "comments: true\n",
    "---"
   ]
  },
  {
   "cell_type": "code",
   "execution_count": 1,
   "metadata": {},
   "outputs": [
    {
     "name": "stdout",
     "output_type": "stream",
     "text": [
      "Factorial of 3 is 6\n"
     ]
    }
   ],
   "source": [
    "def factorial(n):\n",
    "    if n == 0:  # Conditions to stop the recursion\n",
    "        return 1  # 0! is 1\n",
    "    elif n < 0:\n",
    "        return \"undefined\"  # Undefined for negative numbers \n",
    "    elif isinstance(n, float):\n",
    "        return \"not solvable without gamma function\"  # Only accept integers\n",
    "    else:\n",
    "        return n * factorial(n - 1)  # Function calling itself\n",
    "\n",
    "num = int(input(\"Enter a number to calculate its factorial: \"))  # User input for any number\n",
    "result = factorial(num)\n",
    "print(f\"Factorial of {num} is\", result)\n"
   ]
  },
  {
   "cell_type": "markdown",
   "metadata": {},
   "source": [
    "## Change the numbers input to find the factorial of 4"
   ]
  }
 ],
 "metadata": {
  "kernelspec": {
   "display_name": "venv",
   "language": "python",
   "name": "python3"
  },
  "language_info": {
   "codemirror_mode": {
    "name": "ipython",
    "version": 3
   },
   "file_extension": ".py",
   "mimetype": "text/x-python",
   "name": "python",
   "nbconvert_exporter": "python",
   "pygments_lexer": "ipython3",
   "version": "3.12.6"
  }
 },
 "nbformat": 4,
 "nbformat_minor": 2
}
