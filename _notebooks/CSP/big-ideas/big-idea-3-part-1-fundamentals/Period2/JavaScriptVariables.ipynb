{
 "cells": [
  {
   "cell_type": "markdown",
   "metadata": {},
   "source": [
    "# Big Idea 3: Algorithms and Programming\n",
    "\n",
    "This lesson discusses the essential concepts of algorithms and programming that are necessary to solve computational problems.\n",
    "\n",
    "### Lesson Plan\n",
    "\n",
    "1. **Understanding Algorithms**:\n",
    "   - What is an algorithm?\n",
    "   - Importance of algorithms in programming.\n",
    "   - Real-life examples of algorithms.\n",
    "\n",
    "2. **Creating Algorithms**:\n",
    "   - How to create a step-by-step solution to a problem.\n",
    "   - Using pseudocode to design algorithms.\n",
    "\n",
    "3. **Basic Programming Concepts**:\n",
    "   - Variables\n",
    "   - Conditionals (if-else)\n",
    "   - Loops (for, while)\n",
    "   - Functions\n"
   ]
  },
  {
   "cell_type": "code",
   "execution_count": 1,
   "metadata": {
    "vscode": {
     "languageId": "javascript"
    }
   },
   "outputs": [
    {
     "data": {
      "application/javascript": "// Declaring variables\nvar num1 = 10;\nvar num2 = 20;\nvar result = num1 + num2;\n\n// Output result\nconsole.log(\"The result of adding num1 and num2 is: \" + result);\n\n// Performing other operations\nvar product = num1 * num2;\nconsole.log(\"The result of multiplying num1 and num2 is: \" + product);\n\n// Displaying result in the notebook\nelement.append(\"The result of num1 + num2 is: \" + result + \"<br>\");\nelement.append(\"The result of num1 * num2 is: \" + product + \"<br>\");\n",
      "text/plain": [
       "<IPython.core.display.Javascript object>"
      ]
     },
     "metadata": {},
     "output_type": "display_data"
    }
   ],
   "source": [
    "%%javascript\n",
    "// Declaring variables\n",
    "var num1 = 10;\n",
    "var num2 = 20;\n",
    "var result = num1 + num2;\n",
    "\n",
    "// Output result\n",
    "console.log(\"The result of adding num1 and num2 is: \" + result);\n",
    "\n",
    "// Performing other operations\n",
    "var product = num1 * num2;\n",
    "console.log(\"The result of multiplying num1 and num2 is: \" + product);\n",
    "\n",
    "// Displaying result in the notebook\n",
    "element.append(\"The result of num1 + num2 is: \" + result + \"<br>\");\n",
    "element.append(\"The result of num1 * num2 is: \" + product + \"<br>\");\n"
   ]
  },
  {
   "cell_type": "markdown",
   "metadata": {},
   "source": [
    "### Interactive Exercises\n",
    "\n",
    "1. **Exercise 1**: Write pseudocode for a simple algorithm that finds the maximum of three numbers.\n",
    "2. **Exercise 2**: Convert your pseudocode to Python code.\n",
    "3. **Exercise 3**: Create a Python program to count the occurrences of a letter in a string.\n",
    "4. **Exercise 4**: Write a Python function that calculates the factorial of a number using recursion.\n",
    "\n",
    "### Summary\n",
    "By the end of this lesson, students should have a solid understanding of how algorithms are fundamental to programming and how basic programming constructs can be used to create solutions for computational problems."
   ]
  },
  {
   "cell_type": "code",
   "execution_count": 2,
   "metadata": {
    "vscode": {
     "languageId": "javascript"
    }
   },
   "outputs": [
    {
     "data": {
      "application/javascript": "# Data types cell\n\nstudent_data = {\n    \"name\": \"Arhaan Memon\",\n    \"age\": 15,\n    \"city\": \"San Diego\",\n    \"food\": \"Pizza\"\n};\n\n# Printing data types often requires mixing types and formatting them correctly\nfor (let key in student_data) {\n    print(key + \": \" + student_data[key]);\n  }\n\n# Popcorn Hack Cell\nname_one = \"Aashray\"\nNameOne = \"Chrissie\"\nnameOne = \"Arushi\"\n\n# All three variables are different.  Programming languages are sensitive to snake case, upper case, etc.\nprint(name_one, NameOne, nameOne)\n",
      "text/plain": [
       "<IPython.core.display.Javascript object>"
      ]
     },
     "metadata": {},
     "output_type": "display_data"
    }
   ],
   "source": [
    "%%javascript\n",
    "# Data types cell\n",
    "\n",
    "student_data = {\n",
    "    \"name\": \"Arhaan Memon\",\n",
    "    \"age\": 15,\n",
    "    \"city\": \"San Diego\",\n",
    "    \"food\": \"Pizza\"\n",
    "};\n",
    "\n",
    "# Printing data types often requires mixing types and formatting them correctly\n",
    "for (let key in student_data) {\n",
    "  console.log(key + \": \" + student_data[key]);\n",
    "  }\n",
    "\n",
    "# Popcorn Hack Cell\n",
    "name_one = \"Aashray\"\n",
    "NameOne = \"Chrissie\"\n",
    "nameOne = \"Arushi\"\n",
    "\n",
    "# All three variables are different.  Programming languages are sensitive to snake case, upper case, etc.\n",
    "print(name_one, NameOne, nameOne)"
   ]
  }
 ],
 "metadata": {
  "kernelspec": {
   "display_name": "Python 3",
   "language": "python",
   "name": "python3"
  },
  "language_info": {
   "codemirror_mode": {
    "name": "ipython",
    "version": 3
   },
   "file_extension": ".py",
   "mimetype": "text/x-python",
   "name": "python",
   "nbconvert_exporter": "python",
   "pygments_lexer": "ipython3",
   "version": "3.11.5"
  }
 },
 "nbformat": 4,
 "nbformat_minor": 2
}
