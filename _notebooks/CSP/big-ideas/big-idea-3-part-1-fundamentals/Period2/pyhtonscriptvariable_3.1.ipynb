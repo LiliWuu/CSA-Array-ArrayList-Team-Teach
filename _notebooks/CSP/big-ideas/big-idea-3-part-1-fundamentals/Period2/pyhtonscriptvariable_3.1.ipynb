{
 "cells": [
  {
   "cell_type": "raw",
   "metadata": {
    "vscode": {
     "languageId": "raw"
    }
   },
   "source": []
  },
  {
   "cell_type": "markdown",
   "metadata": {},
   "source": [
    "# Big Idea 3.1: Variables and Assignments\n",
    "\n",
    "Learn how variables are used in programs to simplify more complex problems\n",
    "\n",
    "### Lesson \n",
    "\n",
    "1. **Variables**:\n",
    "   - What are variables?\n",
    "\n",
    "2. **Varaible Naming**:\n",
    "   - SnakeCase\n",
    "   - PascalCase\n",
    "   - CamelCase\n",
    "   - Putting it all to together\n",
    "\n",
    "3. **Variable Types**:\n",
    "   - Integers\n",
    "   - Strings\n",
    "   - Boolean\n",
    "   - Float\n",
    "   - Lists\n",
    "   - Dictionaries In Pyhton\n",
    "\n",
    "4. **Operators on string**\n",
    "   - (+)\n",
    "   - (*)"
   ]
  },
  {
   "cell_type": "markdown",
   "metadata": {},
   "source": [
    "# Variables\n",
    "\n",
    "**Variables**\n",
    "\n",
    "Variables ae used to store some kind of data in program that can be referenced elsewhere (Often more than once)"
   ]
  },
  {
   "cell_type": "code",
   "execution_count": 13,
   "metadata": {},
   "outputs": [
    {
     "name": "stdout",
     "output_type": "stream",
     "text": [
      "Akshaj\n",
      "15 years old\n",
      "Akshaj 15 years old\n"
     ]
    }
   ],
   "source": [
    "# Variables\n",
    "\n",
    "name = \"Akshaj\"\n",
    "age = \"15 years old\"\n",
    "Grade = \"10th grade\"\n",
    "\n",
    "print (name)\n",
    "print (age) \n",
    "print (name, age)\n"
   ]
  },
  {
   "cell_type": "markdown",
   "metadata": {},
   "source": [
    "**These variables are used to simplify code. Instead of reapeting the staement 15 years old. Everytime I want to refer to it, I just use the variable \"age\"**"
   ]
  },
  {
   "cell_type": "markdown",
   "metadata": {},
   "source": [
    "# Variable Naming\n",
    "\n",
    "**Variable Naming goes over the different ways people like to name their variables. These are based on personal preferences. But their are 3 common ones used amongst all the coders. This is to prevent any confusion when collaborating**"
   ]
  },
  {
   "cell_type": "markdown",
   "metadata": {},
   "source": [
    "### Snake Case\n",
    "Snake case is when you place an underscore (_) between the the two words in the variable name. This underscore is to replace the space betweent the words"
   ]
  },
  {
   "cell_type": "code",
   "execution_count": 17,
   "metadata": {},
   "outputs": [
    {
     "name": "stdout",
     "output_type": "stream",
     "text": [
      "Arhaan\n",
      "34\n"
     ]
    }
   ],
   "source": [
    "# SnakeCase\n",
    "\n",
    "Scrum_Master = \"Arhaan\"\n",
    "print(Scrum_Master)\n",
    "\n",
    "num_1 = 34\n",
    "print(num_1)"
   ]
  },
  {
   "cell_type": "markdown",
   "metadata": {},
   "source": [
    "### Pascal Case\n",
    "In Pascal Case, The coder capitalizes the first letter of every word in the variable name. There are no spaces between the words"
   ]
  },
  {
   "cell_type": "code",
   "execution_count": 18,
   "metadata": {},
   "outputs": [
    {
     "name": "stdout",
     "output_type": "stream",
     "text": [
      "Arhaan\n",
      "Akshaj\n"
     ]
    }
   ],
   "source": [
    "# PascalCase\n",
    "\n",
    "ScrumMaster = \"Arhaan\"\n",
    "print(ScrumMaster)\n",
    "\n",
    "TeamLeader = \"Akshaj\"\n",
    "print(TeamLeader)"
   ]
  },
  {
   "cell_type": "markdown",
   "metadata": {},
   "source": [
    "### CamelCase\n",
    "**In CamelCase, The coder capitalizes the first letter of the second word of the variable name. This continue onward for every subsequent word**"
   ]
  },
  {
   "cell_type": "code",
   "execution_count": 19,
   "metadata": {},
   "outputs": [
    {
     "name": "stdout",
     "output_type": "stream",
     "text": [
      "Arhaan\n",
      "Akshaj\n"
     ]
    }
   ],
   "source": [
    "# CamelCase\n",
    "scrumMaster = \"Arhaan\"\n",
    "print(scrumMaster)\n",
    "\n",
    "teamLeader = \"Akshaj\"\n",
    "print(teamLeader)"
   ]
  },
  {
   "cell_type": "markdown",
   "metadata": {},
   "source": [
    "### Putting it all together\n",
    "**Even though these are different ways to annotate your variables, they could all work together to simplify a complex code**"
   ]
  },
  {
   "cell_type": "code",
   "execution_count": 22,
   "metadata": {},
   "outputs": [
    {
     "name": "stdout",
     "output_type": "stream",
     "text": [
      "Arhaan Akshaj Mihir\n"
     ]
    }
   ],
   "source": [
    "# Putting it all together\n",
    "\n",
    "Scrum_Master = \"Arhaan\"\n",
    "GroupMaster = \"Akshaj\"\n",
    "groupMember = \"Mihir\"\n",
    "\n",
    "print (Scrum_Master, GroupMaster, groupMember)"
   ]
  },
  {
   "cell_type": "markdown",
   "metadata": {},
   "source": [
    "# Variable Types"
   ]
  },
  {
   "cell_type": "markdown",
   "metadata": {},
   "source": [
    "### Integers"
   ]
  },
  {
   "cell_type": "code",
   "execution_count": 9,
   "metadata": {},
   "outputs": [
    {
     "name": "stdout",
     "output_type": "stream",
     "text": [
      "This is an example of float\n",
      "e = 2.718281828\n"
     ]
    }
   ],
   "source": [
    "# In lne, base e = 2.718281828\n",
    "example3 = \"This is an example of float\"\n",
    "print (example3)\n",
    "print (\"e = 2.718281828\")"
   ]
  }
 ],
 "metadata": {
  "kernelspec": {
   "display_name": "Python 3",
   "language": "python",
   "name": "python3"
  },
  "language_info": {
   "codemirror_mode": {
    "name": "ipython",
    "version": 3
   },
   "file_extension": ".py",
   "mimetype": "text/x-python",
   "name": "python",
   "nbconvert_exporter": "python",
   "pygments_lexer": "ipython3",
   "version": "3.12.5"
  }
 },
 "nbformat": 4,
 "nbformat_minor": 2
}
