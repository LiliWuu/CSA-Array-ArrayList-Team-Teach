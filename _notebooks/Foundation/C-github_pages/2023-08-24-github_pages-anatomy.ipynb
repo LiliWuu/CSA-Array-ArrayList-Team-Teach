{
 "cells": [
  {
   "attachments": {},
   "cell_type": "raw",
   "metadata": {
    "vscode": {
     "languageId": "raw"
    }
   },
   "source": [
    "---\n",
    "layout: post\n",
    "title: Anatomy of GitHub Pages\n",
    "description: Learn the Files and development work flow of GitHub Pages.  This includes working with you home page, theme, markdown, and more. \n",
    "categories: [GitHub Pages]\n",
    "permalink: /github/pages/anatomy\n",
    "menu: nav/github_pages.html\n",
    "toc: true\n",
    "comments: true\n",
    "---"
   ]
  },
  {
   "attachments": {},
   "cell_type": "markdown",
   "metadata": {},
   "source": [
    "## Anatomy of GitHub Pages files\n",
    "> Discuss how to develop a home page, code, run local server test, and then sync to deploy to GitHub Pages.\n",
    "- Review tools setup and make in README.md to support this lesson.  "
   ]
  },
  {
   "attachments": {},
   "cell_type": "markdown",
   "metadata": {},
   "source": [
    "## Files and Directories in this Project\n",
    "> Here are some defintion to key files and directories in this project\n",
    "\n",
    "- `README.md`: This file contains instructions and background information about the project. It is a standard file present in all properly set up GitHub projects.\n",
    "\n",
    "- `index.md`: This is the source file for the home page of the project. It is a standard file for all GitHub Pages projects. Note that Markdown (.md) files are converted to HTML by the Jekyll build process. HTML files are the only file type that is rendered on a website.\n",
    "\n",
    "- `_notebooks`: This directory contains Jupyter Notebook (.ipynb) files. These files are converted to Markdown (.md) files by the Makefile rules in the build process. The Markdown files are then converted to HTML by the Jekyll build process.\n",
    "\n",
    "- `_posts`: This directory contains Markdown (.md) files that will be part of the website. These files are formatted similarly to index.md and include frontmatter (metadata coded in YAML) and Markdown, HTML, JavaScript, and CSS source code. You will also find Liquid code in these files, which is used to generate Markdown, HTML, JavaScript, and CSS.\n",
    "\n",
    "- `_data`: This directory is the standard location for storing data files that support the _posts or _notebooks directories.\n",
    "\n",
    "- `images`: This directory is the standard location for storing image files (JPEG, PNG, etc.) that support the _posts or _notebooks directories.\n",
    "\n",
    "- `_config.yml`: This file contains YAML definitions (key-value properties) used to build the Jekyll website.\n",
    "\n",
    "- `.gitignore`: This file specifies elements to be excluded from version control. Files are excluded when they are derived from the original source and not considered part of the project's source code. In the VSCode Explorer, you may notice some files appearing dimmed, indicating that they are purposely excluded by the rules in .gitignore.\n",
    "\n",
    "- `layouts`: This directory contains HTML files used by Jekyll to generate the structure of the website, including blogs, schedules, and home pages. Each post or notebook specifies a layout in its frontmatter, which determines how the content is presented.\n",
    "\n",
    "- `scripts`: This directory contains scripts such as `convert_notebooks.py`, which converts Jupyter Notebook (.ipynb) files into Markdown (.md) files. These scripts automate parts of the build process, ensuring that content is properly formatted for the website.\n",
    "\n",
    "Please note that there are many other key files and directories in a GitHub Pages project, but we will highlight those as the development progresses.\n"
   ]
  },
  {
   "cell_type": "markdown",
   "metadata": {
    "vscode": {
     "languageId": "ruby"
    }
   },
   "source": [
    "### Configuration Notes, behind the scenses\n",
    "The `_config.yml` file is the configuration file for Jekyll. It is a YAML file that defines the configuration of the site. The configuration file can be used to set site-wide variables, and can be used to set variables for specific environments (development, production, etc).\n",
    "\n",
    "Often in code we use the `site.baseurl` to indentfy the path to files.  GitHub actions uses this location in its build to identify the name of the project.  Be sure the values of these keys match your GitHub Repo.\n",
    "\n",
    "```yml\n",
    "github_repo: \"portfolio_2025\" \n",
    "baseurl: \"/portfolio_2025\"\n",
    "```\n",
    "\n",
    "Many remote theme files are commented out, you can only have one at a time.  The Teacher is in favor of using the `minima` theme. To change these themes it will require many other changes to the system, specifically related to thins like \"headers\", \"footers\", and 'CSS\".  Themes and related CSS changes are below, but they are not complete.  IMO, you would need to disable minima or reorganize a lot of files.\n",
    "\n",
    "```yml\n",
    "# theme requirements\n",
    "#remote_theme: pages-themes/midnight@v0.2.0\n",
    "# remote_theme: pages-themes/dinky@v0.2.0\n",
    "# remote_theme: pages-themes/minimal@v0.2.0\n",
    "# remote_theme: pages-themes/hacker@v0.2.0\n",
    "# remote_theme: pages-themes/cayman@v0.2.0\n",
    "# remote_theme: pages-themes/time-machine@v0.2.0\n",
    "```\n",
    "\n",
    "```html\n",
    "{% if site.remote_theme contains 'midnight' %}\n",
    "  <script src=\"{{ '/assets/js/respond.js' | relative_url }}\"></script>\n",
    "{% elsif site.remote_theme contains 'dinky' %}\n",
    "  <script src=\"{{ '/assets/js/scale.fix.js' | relative_url }}\"></script>\n",
    "{% elsif site.remote_theme contains 'time-machine' %}\n",
    "  <script src=\"{{ '/assets/js/script.js' | relative_url }}\"></script>\n",
    "{% elsif site.remote_theme contains 'cayman' %}\n",
    "  <link rel=\"preconnect\" href=\"https://fonts.gstatic.com\">\n",
    "  <link rel=\"preload\" href=\"https://fonts.googleapis.com/css?family=Open+Sans:400,700&display=swap\" as=\"style\" type=\"text/css\" crossorigin>\n",
    "  <meta name=\"theme-color\" content=\"#157878\">\n",
    "  <meta name=\"apple-mobile-web-app-status-bar-style\" content=\"black-translucent\">\n",
    "{% endif %}\n",
    "```"
   ]
  },
  {
   "attachments": {},
   "cell_type": "markdown",
   "metadata": {},
   "source": [
    "## Customizations.\n",
    "> Each student should perform customization to their project.  This is an opportunity to learn a few concepts from 'teacher' repository and then customize your own page to your personal interests.  "
   ]
  },
  {
   "cell_type": "markdown",
   "metadata": {},
   "source": [
    "### Customize a Page\n",
    "The home page to  other pages is a common first step in building a project.  To start you will need to form your `index.md` in your project, which behind the scenes is generated into an `index.html` by the GitHub Pages build process. "
   ]
  },
  {
   "cell_type": "markdown",
   "metadata": {},
   "source": [
    "### Change Title\n",
    " Every page should have a `title`.  Here is frontmatter sample...\n",
    "\n",
    "```yml\n",
    "---\n",
    "layout: base\n",
    "title: My Title\n",
    "---\n",
    "```"
   ]
  },
  {
   "cell_type": "markdown",
   "metadata": {},
   "source": [
    "### GitHub Page, GitHub, GitHub Raw; Broken Links\n",
    "Home Page usually is an information page describing the project.  This often contains nice visuals and links to further content.  Review the `index.md` of the [teacher repository](https://github.com/nighthawkcoders/teacher/blob/main/index.md).\n",
    "\n",
    "GitHub displays information in three forms.\n",
    "- GitHub Pages, [Fully rendered link](https://nighthawkcoders.github.io/teacher/).  This is the link we share with friends or community.\n",
    "- GitHub, [Partial rendered link](https://github.com/nighthawkcoders/teacher/blob/main/index.md).  This is the link developer typically uses to discover a file in a project, GitHub tries to present markdown in a pretty form by default.\n",
    "- GitHub raw, [Source link](https://raw.githubusercontent.com/nighthawkcoders/teacher/main/index.md).  The raw link is in the project, but requires a 2nd click after discovery in GitHub.  This contains the source the developer creates when building the pages.\n",
    "\n",
    "\n",
    "Often students need to add `{{site.baseurl}}` when referening files in project to avoid broken links. File locations on localhost and on github.io can be different, add the baseurl makes sure files are always found.\n",
    "\n",
    "```markdown\n",
    "![csse]({{site.baseurl}}/images/ccr.png)\n",
    "```"
   ]
  },
  {
   "attachments": {},
   "cell_type": "markdown",
   "metadata": {},
   "source": [
    "### Making a Submenu\n",
    "> This is made from markdown and references images from the `image` foler.\n",
    "- ```index.md``` is the file that contains markdown for this page\n",
    "- ```_includes/nav/home.html``` contains code for submenu, it is included in every page in this dialog\n",
    "- ```{{site.baseurl}}``` refers to baseurl defined in _config.yml, this is the localtion of all files in WebSite.   Note, this changes as you run on localhost and deployed; make sure you remember to use this for locations of files in site.\n",
    "\n",
    "```html\n",
    "<table>\n",
    "    <tr>\n",
    "        <td><img src=\"{{site.baseurl}}//images/logo.png\" height=\"60\" title=\"Frontend\" alt=\"\"></td>\n",
    "        <td><a href=\"{{site.baseurl}}/index\">Course</a></td>\n",
    "        <td><a href=\"{{site.baseurl}}/home/table\">Table</a></td>\n",
    "        <td><a href=\"{{site.baseurl}}/home/about\">About</a></td>\n",
    "    </tr>\n",
    "</table>\n",
    "```"
   ]
  },
  {
   "attachments": {},
   "cell_type": "markdown",
   "metadata": {},
   "source": [
    "### Style Hack\n",
    "> The Style submenu is using a Calculator as an example.\n",
    "- ```/assets/css/style.css``` contains import of style customization per rules defined by GitHub Pages themse.  Read the description on how Stye customization are handled by [midnight](https://github.com/pages-themes/midnight#readme) in the README.md.  This is a way to use there repo of customization, but also add individual spice.  This is much faster than trying to do this by yourself.\n",
    "- ```/_posts/<date>Example-calculator.md``` contains code for Calculator in the project.  Only the top output is generating completely custom style, the remainder comes from adjusting style.css.\n",
    "- A Calculator is a great way to learn customizations of things like buttons, which are common elements in a Theme.  Also, it is great way to learn Math operations.  Suggested Hacks are inside this file.\n",
    "- As you view the content of this file you will see CSS, HTML, and JavaScipt.  To enhance this you would need to start to learn the basic structures and use a Cheat Sheet for reference.   Also, putting this code into ChatGPT and aking for overview is a great way to understand line by line."
   ]
  }
 ],
 "metadata": {
  "language_info": {
   "name": "python"
  },
  "orig_nbformat": 4
 },
 "nbformat": 4,
 "nbformat_minor": 2
}
