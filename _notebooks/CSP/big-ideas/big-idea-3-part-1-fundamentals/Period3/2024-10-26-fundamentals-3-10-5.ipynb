{
 "cells": [
  {
   "cell_type": "raw",
   "metadata": {
    "vscode": {
     "languageId": "raw"
    }
   },
   "source": [
    "---\n",
    "toc: false\n",
    "comments: true\n",
    "layout: post\n",
    "title: 3.10 Grading on Hacks \n",
    "description: Below here's how you should evaluate yourself and how grade. \n",
    "permalink: /csp/big-idea/p3/3-10-5\n",
    "categories: [CSP Big Ideas]\n",
    "author:  Ryan, Jackson, Arush, Yash, Aranya\n",
    "menu: nav/csp_units/csp_unit3_p3_fundamentals.html\n",
    "---"
   ]
  },
  {
   "cell_type": "markdown",
   "metadata": {},
   "source": [
    "### Grading Rubric \n",
    "\n",
    "A+ // All elements needed. Learning is evident with all hacks AND popcorn hacks integrated in some way. Get creative! \n",
    "\n",
    "A or A- // All elements needed. Hacks and popcorn hacks are completely done. \n",
    "\n",
    "B // Most elements in hacks or popcorn hacks. Small gaps, such as a small error, may be present. \n",
    "\n",
    "C // Not much work or large gaps in understanding. Hacks may be incomplete or little work to show. \n",
    "\n",
    "F // (55%) No work. \n",
    "\n",
    "Note: There are a total of 2 popcorn hacks. Each are weighted 25%. The hacks listed on the bottom of the page are worth 50% total. "
   ]
  }
 ],
 "metadata": {
  "language_info": {
   "name": "python"
  }
 },
 "nbformat": 4,
 "nbformat_minor": 2
}
