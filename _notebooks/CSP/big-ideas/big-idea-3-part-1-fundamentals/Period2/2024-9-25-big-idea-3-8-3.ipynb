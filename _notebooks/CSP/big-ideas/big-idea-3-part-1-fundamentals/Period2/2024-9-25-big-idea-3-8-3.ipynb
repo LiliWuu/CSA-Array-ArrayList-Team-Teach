{
 "cells": [
  {
   "cell_type": "raw",
   "metadata": {
    "vscode": {
     "languageId": "raw"
    }
   },
   "source": [
    "---\n",
    "toc: false\n",
    "comments: true\n",
    "layout: post\n",
    "title: 3.8.3 Index Loops\n",
    "description: Student led teaching on Iteration. Learn how to do loops with Java and Python.\n",
    "permalink: /csp/big-idea/p2/3-8-3\n",
    "categories: [CSP Big Ideas]\n",
    "author:  Arshia, Mirabelle, Alejandro, Prajna\n",
    "menu: nav/csp_units/csp_unit3_p2_fundamentals.html\n",
    "---"
   ]
  },
  {
   "cell_type": "markdown",
   "metadata": {},
   "source": [
    "## **What is an \"Index Loop\"?**\n",
    "\n",
    "An **index loop** is a loop that not only iterates over the elements of a sequence (such as a list, tuple, or string) but also tracks the **index** (position) of each element.\n",
    "\n",
    "This is useful in cases where both the **value** and its **position** in the sequence are needed simultaneously.\n",
    "\n",
    "In Python, the `enumerate()` function is commonly used to create an index loop, as it provides both the index and the element in each iteration. This allows you to:\n",
    "\n",
    "- Access elements alongside their index\n",
    "- Perform operations based on the element's position\n",
    "\n",
    "For example, in a list of items, you can display both the index and the item itself using an index loop.\n",
    "\n"
   ]
  },
  {
   "cell_type": "code",
   "execution_count": null,
   "metadata": {},
   "outputs": [],
   "source": [
    "# List of items\n",
    "items = [\"Item 1\", \"Item 2\", \"Item 3\", \"Item 4\", \"Item 5\"]\n",
    "\n",
    "# Loop through the items list and print each item with its index\n",
    "for index, item in enumerate(items):\n",
    "    print(f\"Index {index}: {item}\")\n"
   ]
  },
  {
   "cell_type": "code",
   "execution_count": 11,
   "metadata": {},
   "outputs": [
    {
     "data": {
      "application/javascript": "\nconst items = [\"Item 1\", \"Item 2\", \"Item 3\", \"Item 4\", \"Item 5\"];\n\nitems.forEach((item, index) => {\n    console.log(`Index ${index}: ${item}`);\n});\n",
      "text/plain": [
       "<IPython.core.display.Javascript object>"
      ]
     },
     "metadata": {},
     "output_type": "display_data"
    }
   ],
   "source": [
    "%%js\n",
    "\n",
    "const items = [\"Item 1\", \"Item 2\", \"Item 3\", \"Item 4\", \"Item 5\"];\n",
    "\n",
    "items.forEach((item, index) => {\n",
    "    console.log(`Index ${index}: ${item}`);\n",
    "});\n"
   ]
  },
  {
   "cell_type": "markdown",
   "metadata": {},
   "source": [
    "## Popcorn Hack"
   ]
  },
  {
   "cell_type": "code",
   "execution_count": 18,
   "metadata": {},
   "outputs": [
    {
     "name": "stdout",
     "output_type": "stream",
     "text": [
      "You should: Read a book\n"
     ]
    }
   ],
   "source": [
    "import random\n",
    "\n",
    "# List of activities\n",
    "activities = [\n",
    "    \"Watch a movie\",\n",
    "    \"Read a book\",\n",
    "    \"Go for a walk\",\n",
    "    \"Try a new recipe\",\n",
    "    \"Play a game\"\n",
    "]\n",
    "\n",
    "# Function to get a random activity\n",
    "def random_activity():\n",
    "    activity = random.choice(activities)\n",
    "    print(f\"You should: {activity}\")\n",
    "\n",
    "# Call the function to display a random activity\n",
    "random_activity()\n"
   ]
  },
  {
   "cell_type": "markdown",
   "metadata": {},
   "source": [
    "# Why Index Loops gets used in my popcorn hack/random activity selector\n",
    "\n",
    "## First, What is an Index Loop?\n",
    "An **index loop** is a programming construct that allows you to iterate through a list while keeping track of each item's position (or index). This is useful when you want to access both the item and its index.\n",
    "\n",
    "## Connection to the Random Activity Selector\n",
    "In our **Random Activity Selector**, we have a list of activities (like \"Watch a movie\" or \"Read a book\"). We use the `random.choice()` function to select one at random. While this doesn’t directly use an index loop, understanding index loops helps us think about how we could enhance the program.\n",
    "\n",
    "## Example of Using an Index Loop\n",
    "If we wanted to display all activities with their indices, we could do this using an index loop:\n",
    "1. **Loop through the List**: We can iterate through the list using a loop that tracks each index.\n",
    "2. **Access Each Item**: For example, we could print:\n",
    "   - **Index 0**: Watch a movie\n",
    "   - **Index 1**: Read a book\n",
    "   - **Index 2**: Go for a walk\n",
    "\n",
    "## Why is This Important?\n",
    "- **Foundational Skill**: Index loops are essential for working with lists and arrays in programming.\n",
    "- **Versatile Data Handling**: They allow you to perform operations based on an element's position, which is vital for many coding tasks.\n",
    "\n",
    "## Conclusion\n",
    "While the Random Activity Selector randomly selects an item, knowing about index loops equips you with the tools to better manipulate and explore data in programming.\n"
   ]
  }
 ],
 "metadata": {
  "kernelspec": {
   "display_name": "venv",
   "language": "python",
   "name": "python3"
  },
  "language_info": {
   "codemirror_mode": {
    "name": "ipython",
    "version": 3
   },
   "file_extension": ".py",
   "mimetype": "text/x-python",
   "name": "python",
   "nbconvert_exporter": "python",
   "pygments_lexer": "ipython3",
   "version": "3.12.5"
  }
 },
 "nbformat": 4,
 "nbformat_minor": 2
}
