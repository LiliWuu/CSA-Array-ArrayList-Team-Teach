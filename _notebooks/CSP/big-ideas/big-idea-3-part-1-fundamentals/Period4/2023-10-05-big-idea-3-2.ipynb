{
 "cells": [
  {
   "cell_type": "markdown",
   "metadata": {
    "vscode": {
     "languageId": "raw"
    }
   },
   "source": [
    "---\n",
    "toc: false\n",
    "comments: true\n",
    "layout: post\n",
    "title: 3.2 Data Abstraction\n",
    "description: Student led teaching on Data Abstraction. Learn how data abstraction involves managing complexity in programs\n",
    "permalink: /csp/big-idea/p4/3-2\n",
    "categories: [CSP Big Ideas]\n",
    "author: Ian, Collin, Aarush, Thomas\n",
    "menu: nav/csp_units/csp_unit3_p4_fundamentals.html\n",
    "---"
   ]
  },
  {
   "cell_type": "markdown",
   "metadata": {},
   "source": [
    "# 3.2 Big Ideas:\n",
    "\n",
    "Mainpage for 3.2 DATA ABSTRACTION\n",
    "\n",
    "# Homework Hack:\n",
    "\n",
    "-Make a list with words, numbers, and decimals\n",
    "-Print the list, print only the decimals with an index\n",
    "-Make a string equal \"none\" with no \"\", and print it out\n",
    "-Make a touple with anything inside of it"
   ]
  }
 ],
 "metadata": {
  "kernelspec": {
   "display_name": "Python 3",
   "language": "python",
   "name": "python3"
  },
  "language_info": {
   "codemirror_mode": {
    "name": "ipython",
    "version": 3
   },
   "file_extension": ".py",
   "mimetype": "text/x-python",
   "name": "python",
   "nbconvert_exporter": "python",
   "pygments_lexer": "ipython3",
   "version": "3.11.4"
  },
  "orig_nbformat": 4
 },
 "nbformat": 4,
 "nbformat_minor": 2
}
