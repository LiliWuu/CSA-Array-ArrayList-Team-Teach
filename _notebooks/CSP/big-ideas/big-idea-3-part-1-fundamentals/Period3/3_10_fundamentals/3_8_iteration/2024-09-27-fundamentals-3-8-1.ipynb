{
 "cells": [
  {
   "cell_type": "markdown",
   "metadata": {
    "vscode": {
     "languageId": "raw"
    }
   },
   "source": [
    "---\n",
    "layout: post\n",
    "title: \"3.8.5 Recursion P3\"\n",
    "description: My subsection for 3.8.5 group project P3\n",
    "permalink: /Recursion/\n",
    "type: issues\n",
    "Author: Armaghan, Elliot, Nihkil, Hithin\n",
    "comments: true\n",
    "---"
   ]
  },
  {
   "cell_type": "markdown",
   "metadata": {},
   "source": [
    "## Basic Overview\n",
    "\n",
    "Recursion is a process in which a function calls itself as part of its execution. It is a powerful technique used to solve problems by breaking them down into simpler sub-problems of the same type.\n",
    "\n",
    "Recursion typically involves two essential parts:\n",
    "\n",
    "1. **Base case** – The condition that stops the recursion.\n",
    "2. **Recursive case** – The part where the function continues calling itself.\n"
   ]
  },
  {
   "cell_type": "markdown",
   "metadata": {},
   "source": [
    "# Pseudocode Explanation"
   ]
  },
  {
   "cell_type": "code",
   "execution_count": 13,
   "metadata": {
    "vscode": {
     "languageId": "sql"
    }
   },
   "outputs": [
    {
     "ename": "SyntaxError",
     "evalue": "invalid syntax (1118931696.py, line 1)",
     "output_type": "error",
     "traceback": [
      "\u001b[0;36m  Cell \u001b[0;32mIn[13], line 1\u001b[0;36m\u001b[0m\n\u001b[0;31m    Define a function factorial with parameter n\u001b[0m\n\u001b[0m           ^\u001b[0m\n\u001b[0;31mSyntaxError\u001b[0m\u001b[0;31m:\u001b[0m invalid syntax\n"
     ]
    }
   ],
   "source": [
    "Define a function factorial with parameter n\n",
    "  If n equals 0\n",
    "    Return 1\n",
    "  Else if n is less than 0\n",
    "    Return \"undefined\"\n",
    "  Else if n is a float\n",
    "    Return \"not solvable\"\n",
    "  Else\n",
    "    Return n multiplied by factorial of n-1\n",
    "\n",
    "Take user input as num\n",
    "Call factorial(num) and print the result"
   ]
  },
  {
   "cell_type": "markdown",
   "metadata": {
    "vscode": {
     "languageId": "raw"
    }
   },
   "source": [
    "# Python Example\n",
    "Here’s an example of a simple factorial function that uses recursion. It will keep calling itself, multiplying numbers, until the base case (when 'n == 0') is reached."
   ]
  },
  {
   "cell_type": "code",
   "execution_count": 3,
   "metadata": {},
   "outputs": [
    {
     "name": "stdout",
     "output_type": "stream",
     "text": [
      "Factorial of 3 is 6\n"
     ]
    }
   ],
   "source": [
    "# Function to calculate factorial\n",
    "def factorial(n):\n",
    "    # Base case: stop recursion when n is 0\n",
    "    if n == 0:  \n",
    "        return 1  # 0! is 1  \n",
    "    \n",
    "    # Handle negative input\n",
    "    elif n < 0:  \n",
    "        return \"undefined\"  # Undefined for negative numbers  \n",
    "    \n",
    "    # Handle non-integer input\n",
    "    elif isinstance(n, float):  \n",
    "        return \"not solvable without gamma function\"  # Only accept integers  \n",
    "    \n",
    "    # Recursive case: call the function again with (n-1)\n",
    "    else:  \n",
    "        return n * factorial(n - 1)  # Function calls itself with n-1  \n",
    "\n",
    "# Take user input for a number\n",
    "num = int(input(\"Enter a number to calculate its factorial: \"))  \n",
    "\n",
    "# Call the factorial function and print the result\n",
    "result = factorial(num)  \n",
    "print(f\"Factorial of {num} is\", result)\n"
   ]
  },
  {
   "cell_type": "markdown",
   "metadata": {},
   "source": [
    "# Javascript example"
   ]
  },
  {
   "cell_type": "code",
   "execution_count": 9,
   "metadata": {
    "vscode": {
     "languageId": "javascript"
    }
   },
   "outputs": [
    {
     "ename": "SyntaxError",
     "evalue": "invalid syntax (4021538263.py, line 1)",
     "output_type": "error",
     "traceback": [
      "\u001b[0;36m  Cell \u001b[0;32mIn[9], line 1\u001b[0;36m\u001b[0m\n\u001b[0;31m    // Function to calculate factorial\u001b[0m\n\u001b[0m    ^\u001b[0m\n\u001b[0;31mSyntaxError\u001b[0m\u001b[0;31m:\u001b[0m invalid syntax\n"
     ]
    }
   ],
   "source": [
    "// Function to calculate factorial\n",
    "function factorial(n) {\n",
    "    // Base case: stop recursion when n is 0\n",
    "    if (n === 0) {\n",
    "        return 1;  // 0! is 1\n",
    "    } else {\n",
    "        // Recursive case: call the function again with (n-1)\n",
    "        return n * factorial(n - 1);  // Function calls itself with n-1\n",
    "    }\n",
    "}\n",
    "\n",
    "// Example usage\n",
    "let num = 4;  // Number to calculate factorial for\n",
    "console.log(\"Factorial of \" + num + \" is \" + factorial(num));  // Output the result"
   ]
  },
  {
   "cell_type": "markdown",
   "metadata": {},
   "source": [
    "# Notes\n",
    "- **Base Case**: The function checks if 'n' is 0 and returns 1, stopping further recursion.\n",
    "- **Recursive Case**: For any other positive integer, it returns 'n' multiplied by the factorial of 'n-1', continuing the process."
   ]
  },
  {
   "cell_type": "markdown",
   "metadata": {},
   "source": [
    "## What is Happening\n",
    "\n",
    "- **Factorial Function**: The function checks if `n` is zero (base case), then returns 1. For any other positive integer, it multiplies `n` by the factorial of `n-1`, recursively.\n",
    "\n",
    "- **Stopping Condition**: The recursion stops when `n` reaches 0.\n",
    "\n",
    "- **Negative Input Handling**: In this example, negative numbers return `\"undefined\"`, and floats return a message indicating they are not supported without a gamma function.\n"
   ]
  },
  {
   "cell_type": "markdown",
   "metadata": {},
   "source": [
    "# Hack #1: Password Checker\n",
    "- This Python script asks the user for a password. If the password is correct, it prints a success message. If the password is incorrect, it keeps asking until the user enters the correct password."
   ]
  },
  {
   "cell_type": "markdown",
   "metadata": {},
   "source": [
    "# Python Example:"
   ]
  },
  {
   "cell_type": "code",
   "execution_count": 10,
   "metadata": {},
   "outputs": [
    {
     "name": "stdout",
     "output_type": "stream",
     "text": [
      "Wrong password. Try again.\n",
      "Password is correct!\n"
     ]
    }
   ],
   "source": [
    "# Correct password set by the program\n",
    "password = \"1234\"  \n",
    "\n",
    "# Initialize an empty string to store user input\n",
    "input_password = \"\"  \n",
    "\n",
    "# While loop to keep asking for password until correct\n",
    "while input_password != password:  \n",
    "    input_password = input(\"Enter password: \")  # Ask user for input\n",
    "    \n",
    "    # Check if the input matches the correct password\n",
    "    if input_password == password:  \n",
    "        print(\"Password is correct!\")  # If correct, print success message\n",
    "    else:  \n",
    "        print(\"Wrong password. Try again.\")  # If wrong, ask again\n"
   ]
  },
  {
   "cell_type": "markdown",
   "metadata": {},
   "source": [
    "# Notes\n",
    "- While Loop: This loop runs continuously as long as the user doesn’t enter the correct password. Once the correct password is input, the loop ends.\n",
    "- If/Else: The 'if' checks the input, and the 'else' prints a retry message if the password is wrong."
   ]
  },
  {
   "cell_type": "markdown",
   "metadata": {},
   "source": [
    "# Hack #2: Iterate Through User’s Name\n",
    "- In this hack, you’ll create a Python script that asks the user for their name, then iterates through the name, printing each letter individually."
   ]
  },
  {
   "cell_type": "markdown",
   "metadata": {},
   "source": [
    "# Python Example:"
   ]
  },
  {
   "cell_type": "code",
   "execution_count": 11,
   "metadata": {},
   "outputs": [
    {
     "name": "stdout",
     "output_type": "stream",
     "text": [
      "A\n",
      "r\n",
      "m\n",
      "a\n",
      "g\n",
      "h\n",
      "a\n",
      "n\n"
     ]
    }
   ],
   "source": [
    "# Ask the user for their name\n",
    "name = input(\"Enter your name: \")  \n",
    "\n",
    "# For loop to go through each letter of the name\n",
    "for letter in name:  \n",
    "    print(letter)  # Print each letter on a new line\n"
   ]
  },
  {
   "cell_type": "markdown",
   "metadata": {},
   "source": [
    "# Notes\n",
    " - **For Loop**: This loop iterates through each character in the string entered by the user, printing each letter on a new line."
   ]
  },
  {
   "cell_type": "markdown",
   "metadata": {},
   "source": [
    "# Hack #3: Iterate Through a List of Fruits\n",
    "In this hack, you'll create a Python script with a list of at least 7 different fruits, then create a for loop that iterates through that list and prints out each fruit separately."
   ]
  },
  {
   "cell_type": "markdown",
   "metadata": {},
   "source": [
    "# Python Example"
   ]
  },
  {
   "cell_type": "code",
   "execution_count": 12,
   "metadata": {},
   "outputs": [
    {
     "name": "stdout",
     "output_type": "stream",
     "text": [
      "Apple\n",
      "Banana\n",
      "Cherry\n",
      "Date\n",
      "Fig\n",
      "Grape\n",
      "Kiwi\n"
     ]
    }
   ],
   "source": [
    "# List of fruits\n",
    "fruits = [\"Apple\", \"Banana\", \"Cherry\", \"Date\", \"Fig\", \"Grape\", \"Kiwi\"]  \n",
    "\n",
    "# For loop to iterate through the list of fruits\n",
    "for fruit in fruits:  \n",
    "    print(fruit)  # Print each fruit on a new line\n"
   ]
  },
  {
   "cell_type": "markdown",
   "metadata": {},
   "source": [
    "# Notes\n",
    "- **For Loop with Lists**: This example demonstrates how to use a for loop to iterate through items in a list, allowing you to access and print each item one by one."
   ]
  }
 ],
 "metadata": {
  "kernelspec": {
   "display_name": "venv",
   "language": "python",
   "name": "python3"
  },
  "language_info": {
   "codemirror_mode": {
    "name": "ipython",
    "version": 3
   },
   "file_extension": ".py",
   "mimetype": "text/x-python",
   "name": "python",
   "nbconvert_exporter": "python",
   "pygments_lexer": "ipython3",
   "version": "3.12.6"
  }
 },
 "nbformat": 4,
 "nbformat_minor": 2
}
