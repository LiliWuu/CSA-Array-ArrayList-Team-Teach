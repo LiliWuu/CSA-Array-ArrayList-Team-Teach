{
 "cells": [
  {
   "cell_type": "code",
   "execution_count": 17,
   "metadata": {
    "vscode": {
     "languageId": "javascript"
    }
   },
   "outputs": [
    {
     "data": {
      "application/javascript": "---\nlayout: page\n---\n",
      "text/plain": [
       "<IPython.core.display.Javascript object>"
      ]
     },
     "metadata": {},
     "output_type": "display_data"
    }
   ],
   "source": [
    "%%javascript\n",
    "---\n",
    "layout: page\n",
    "---"
   ]
  },
  {
   "cell_type": "code",
   "execution_count": null,
   "metadata": {
    "vscode": {
     "languageId": "javascript"
    }
   },
   "outputs": [],
   "source": [
    "%%javascript\n",
    "def is_palindrome(input_str):\n",
    "    \"\"\"\n",
    "    This function checks whether the given string is a palindrome or not.\n",
    "    A palindrome is a string that reads the same forwards and backwards.\n",
    "\n",
    "    :param input_str: The string to check\n",
    "    :return: True if the string is a palindrome, False otherwise\n",
    "    \"\"\"\n",
    "    # Remove all spaces and convert the string to lowercase\n",
    "    clean_str = input_str.replace(\" \", \"\").lower()\n",
    "\n",
    "    # Check if the cleaned string is the same as its reverse\n",
    "    return clean_str == clean_str[::-1]\n",
    "\n",
    "\n",
    "# Testing the palindrome function\n",
    "print(is_palindrome(\"taco cat\"))  # True\n",
    "print(is_palindrome(\"hi\"))        # False"
   ]
  },
  {
   "cell_type": "code",
   "execution_count": 11,
   "metadata": {
    "vscode": {
     "languageId": "javascript"
    }
   },
   "outputs": [
    {
     "data": {
      "application/javascript": "def is_palindrome(input_str):\n    \"\"\"\n    This function checks whether the given string is a palindrome or not.\n    A palindrome is a string that reads the same forwards and backwards.\n\n    :param input_str: The string to check\n    :return: True if the string is a palindrome, False otherwise\n    \"\"\"\n    # Remove all spaces and convert the string to lowercase\n    clean_str = input_str.replace(\" \", \"\").lower()\n\n    # Check if the cleaned string is the same as its reverse\n    return clean_str == clean_str[::-1]\n\n\n# Testing the palindrome function\nprint(is_palindrome(\"taco cat\"))  # True\nprint(is_palindrome(\"hi\"))        # False\n",
      "text/plain": [
       "<IPython.core.display.Javascript object>"
      ]
     },
     "metadata": {},
     "output_type": "display_data"
    }
   ],
   "source": [
    "%%javascript\n",
    "def string_analyzer(input_str):\n",
    "    \"\"\"\n",
    "    This function analyzes a given string for the following:\n",
    "    - Total number of characters (including spaces)\n",
    "    - Number of vowels\n",
    "    - Average word length\n",
    "\n",
    "    :param input_str: The string to analyze\n",
    "    :return: A dictionary containing the analysis\n",
    "    \"\"\"\n",
    "    # Clean the input string\n",
    "    clean_str = input_str.lower()\n",
    "\n",
    "    # Initialize counters\n",
    "    num_letters = 0\n",
    "    num_numbers = 0\n",
    "    num_spaces = 0\n",
    "    num_vowels = 0\n",
    "\n",
    "    vowels = \"aeiou\"\n",
    "\n",
    "    for char in clean_str:\n",
    "        if char.isalpha():  # Check if it's a letter\n",
    "            num_letters += 1\n",
    "            if char in vowels:  # Check if it's a vowel\n",
    "                num_vowels += 1\n",
    "        elif char.isdigit():  # Check if it's a number\n",
    "            num_numbers += 1\n",
    "        elif char == \" \":  # Check if it's a space\n",
    "            num_spaces += 1\n",
    "\n",
    "    # Split the string into words to calculate average word length\n",
    "    words = clean_str.split()\n",
    "    total_word_length = sum(len(word) for word in words)\n",
    "    average_word_length = total_word_length / len(words) if words else 0\n",
    "\n",
    "    # Return the analysis in a dictionary\n",
    "    return {\n",
    "        \"Total Characters (including spaces)\": len(input_str),\n",
    "        \"Total Letters\": num_letters,\n",
    "        \"Total Numbers\": num_numbers,\n",
    "        \"Total Spaces\": num_spaces,\n",
    "        \"Total Vowels\": num_vowels,\n",
    "        \"Average Word Length\": average_word_length\n",
    "    }\n",
    "\n",
    "\n",
    "# Testing the string analyzer\n",
    "result = string_analyzer(\"Taco cat 123\")\n",
    "for key, value in result.items():\n",
    "    print(f\"{key}: {value}\")\n"
   ]
  },
  {
   "cell_type": "code",
   "execution_count": 16,
   "metadata": {
    "vscode": {
     "languageId": "javascript"
    }
   },
   "outputs": [
    {
     "data": {
      "application/javascript": "def string_analyzer_with_special_chars(input_str):\n    \"\"\"\n    This function analyzes a given string for the following:\n    - Total number of characters (including spaces)\n    - Number of vowels\n    - Average word length\n    - Total special characters (like punctuation marks)\n\n    :param input_str: The string to analyze\n    :return: A dictionary containing the analysis\n    \"\"\"\n    # Clean the input string\n    clean_str = input_str.lower()\n\n    # Initialize counters\n    num_letters = 0\n    num_numbers = 0\n    num_spaces = 0\n    num_vowels = 0\n    num_special_chars = 0\n\n    vowels = \"aeiou\"\n    special_chars = \"!@#$%^&*()-_=+[{]}\\|;:'\\\",<.>/?`~\"\n\n    for char in clean_str:\n        if char.isalpha():  # Check if it's a letter\n            num_letters += 1\n            if char in vowels:  # Check if it's a vowel\n                num_vowels += 1\n        elif char.isdigit():  # Check if it's a number\n            num_numbers += 1\n        elif char == \" \":  # Check if it's a space\n            num_spaces += 1\n        elif char in special_chars:  # Check if it's a special character\n            num_special_chars += 1\n\n    # Split the string into words to calculate average word length\n    words = clean_str.split()\n    total_word_length = sum(len(word) for word in words)\n    average_word_length = total_word_length / len(words) if words else 0\n\n    # Return the analysis in a dictionary\n    return {\n        \"Total Characters (including spaces)\": len(input_str),\n        \"Total Letters\": num_letters,\n        \"Total Numbers\": num_numbers,\n        \"Total Spaces\": num_spaces,\n        \"Total Vowels\": num_vowels,\n        \"Average Word Length\": average_word_length,\n        \"Total Special Characters\": num_special_chars\n    }\n\n\n# Testing the enhanced string analyzer\nresult_with_special = string_analyzer_with_special_chars(\"Taco cat! 123$%^\")\nfor key, value in result_with_special.items():\n    print(f\"{key}: {value}\")\n",
      "text/plain": [
       "<IPython.core.display.Javascript object>"
      ]
     },
     "metadata": {},
     "output_type": "display_data"
    }
   ],
   "source": [
    "%%javascript\n",
    "def string_analyzer_with_special_chars(input_str):\n",
    "    \"\"\"\n",
    "    This function analyzes a given string for the following:\n",
    "    - Total number of characters (including spaces)\n",
    "    - Number of vowels\n",
    "    - Average word length\n",
    "    - Total special characters (like punctuation marks)\n",
    "\n",
    "    :param input_str: The string to analyze\n",
    "    :return: A dictionary containing the analysis\n",
    "    \"\"\"\n",
    "    # Clean the input string\n",
    "    clean_str = input_str.lower()\n",
    "\n",
    "    # Initialize counters\n",
    "    num_letters = 0\n",
    "    num_numbers = 0\n",
    "    num_spaces = 0\n",
    "    num_vowels = 0\n",
    "    num_special_chars = 0\n",
    "\n",
    "    vowels = \"aeiou\"\n",
    "    special_chars = \"!@#$%^&*()-_=+[{]}\\|;:'\\\",<.>/?`~\"\n",
    "\n",
    "    for char in clean_str:\n",
    "        if char.isalpha():  # Check if it's a letter\n",
    "            num_letters += 1\n",
    "            if char in vowels:  # Check if it's a vowel\n",
    "                num_vowels += 1\n",
    "        elif char.isdigit():  # Check if it's a number\n",
    "            num_numbers += 1\n",
    "        elif char == \" \":  # Check if it's a space\n",
    "            num_spaces += 1\n",
    "        elif char in special_chars:  # Check if it's a special character\n",
    "            num_special_chars += 1\n",
    "\n",
    "    # Split the string into words to calculate average word length\n",
    "    words = clean_str.split()\n",
    "    total_word_length = sum(len(word) for word in words)\n",
    "    average_word_length = total_word_length / len(words) if words else 0\n",
    "\n",
    "    # Return the analysis in a dictionary\n",
    "    return {\n",
    "        \"Total Characters (including spaces)\": len(input_str),\n",
    "        \"Total Letters\": num_letters,\n",
    "        \"Total Numbers\": num_numbers,\n",
    "        \"Total Spaces\": num_spaces,\n",
    "        \"Total Vowels\": num_vowels,\n",
    "        \"Average Word Length\": average_word_length,\n",
    "        \"Total Special Characters\": num_special_chars\n",
    "    }\n",
    "\n",
    "\n",
    "# Testing the enhanced string analyzer\n",
    "result_with_special = string_analyzer_with_special_chars(\"Taco cat! 123$%^\")\n",
    "for key, value in result_with_special.items():\n",
    "    print(f\"{key}: {value}\")\n"
   ]
  },
  {
   "cell_type": "code",
   "execution_count": 15,
   "metadata": {
    "vscode": {
     "languageId": "javascript"
    }
   },
   "outputs": [
    {
     "data": {
      "application/javascript": "# Palindrome Tests\nprint(is_palindrome(\"mom\"))        # True\nprint(is_palindrome(\"hello\"))      # False\n\n# String Analyzer Tests\nresult = string_analyzer(\"Analyze this string!\")\nfor key, value in result.items():\n    print(f\"{key}: {value}\")\n",
      "text/plain": [
       "<IPython.core.display.Javascript object>"
      ]
     },
     "metadata": {},
     "output_type": "display_data"
    }
   ],
   "source": [
    "%%javascript\n",
    "# Palindrome Tests\n",
    "print(is_palindrome(\"mom\"))        # True\n",
    "print(is_palindrome(\"hello\"))      # False\n",
    "\n",
    "# String Analyzer Tests\n",
    "result = string_analyzer(\"Analyze this string!\")\n",
    "for key, value in result.items():\n",
    "    print(f\"{key}: {value}\")\n"
   ]
  },
  {
   "cell_type": "code",
   "execution_count": 13,
   "metadata": {
    "vscode": {
     "languageId": "javascript"
    }
   },
   "outputs": [
    {
     "data": {
      "application/javascript": "# Summary Of Lesson\n- **Palindrome Function**: Implemented to check if a string reads the same forwards and backwards.\n- **String Analyzer**: Counts letters, numbers, spaces, vowels, and calculates average word length.\n- **Optional Feature**: Added special character counting for enhanced functionality.\n- **Testing**: Tested all functions with various inputs to ensure accuracy.\n",
      "text/plain": [
       "<IPython.core.display.Javascript object>"
      ]
     },
     "metadata": {},
     "output_type": "display_data"
    }
   ],
   "source": [
    "%%javascript\n",
    "# Summary Of Lesson\n",
    "- **Palindrome Function**: Implemented to check if a string reads the same forwards and backwards.\n",
    "- **String Analyzer**: Counts letters, numbers, spaces, vowels, and calculates average word length.\n",
    "- **Optional Feature**: Added special character counting for enhanced functionality.\n",
    "- **Testing**: Tested all functions with various inputs to ensure accuracy.\n"
   ]
  }
 ],
 "metadata": {
  "kernelspec": {
   "display_name": "Python 3",
   "language": "python",
   "name": "python3"
  },
  "language_info": {
   "codemirror_mode": {
    "name": "ipython",
    "version": 3
   },
   "file_extension": ".py",
   "mimetype": "text/x-python",
   "name": "python",
   "nbconvert_exporter": "python",
   "pygments_lexer": "ipython3",
   "version": "3.12.6"
  }
 },
 "nbformat": 4,
 "nbformat_minor": 2
}
