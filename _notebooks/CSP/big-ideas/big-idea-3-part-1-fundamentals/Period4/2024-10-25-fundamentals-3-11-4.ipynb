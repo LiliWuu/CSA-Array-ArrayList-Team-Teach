{
 "cells": [
  {
   "cell_type": "raw",
   "metadata": {
    "vscode": {
     "languageId": "raw"
    }
   },
   "source": [
    "---\n",
    "toc: false\n",
    "comments: true\n",
    "layout: post\n",
    "title: 3.11 Lists\n",
    "description: This is student-led teaching on lists! Here you'll learn how to manipulate individual elements or items in a list using indexing.\n",
    "permalink: /csp/big-idea/p3/3-11-4\n",
    "categories: [CSP Big Ideas]\n",
    "author: Noah, James, Zafeer\n",
    "menu: nav/csp_units/csp_unit3_p4_fundamentals.html\n",
    "---"
   ]
  },
  {
   "cell_type": "markdown",
   "metadata": {
    "vscode": {
     "languageId": "raw"
    }
   },
   "source": [
    "## JavaScript Homework\n",
    "\n",
    "Problem #1: Basic Array Creation\n",
    "Create an array in JavaScript with at least 5 values. Then, use console.log() to display the array.\n",
    "\n",
    "Problem #2: Accessing Elements\n",
    "Given the array sports = [\"soccer\", \"football\", \"basketball\", \"wrestling\", \"swimming\"], write code that will display the values \"soccer\" and \"wrestling\" using their indexes. Use console.log() to show the output.\n",
    "\n",
    "Problem #3: Adding and Removing Items\n",
    "Create an array called choresList initialized with four items of your choice. Write code using push(), shift(), pop(), and unshift() to change the list. Use console.log() to display the output each time you change the list.\n",
    "\n",
    "Problem #4: Iteration and Conditionals\n",
    "Create an array that contains ten random numbers (both even and odd). Write a function that iterates through the entire array and counts how many times an even number appears in the list. Return the count and display the output using console.log().\n"
   ]
  }
 ],
 "metadata": {
  "language_info": {
   "name": "python"
  }
 },
 "nbformat": 4,
 "nbformat_minor": 2
}
