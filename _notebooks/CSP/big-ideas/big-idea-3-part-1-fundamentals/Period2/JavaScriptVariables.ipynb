{
 "cells": [
  {
   "cell_type": "raw",
   "metadata": {
    "vscode": {
     "languageId": "raw"
    }
   },
   "source": [
    "---\n",
    "layout: post\n",
    "title: Javascript Variables\n",
    "description: This post is to verify tools by using Javascript. \n",
    "categories: [DevOps, Javascript]\n",
    "permalink: /jupyter/notebook/javascript\n",
    "menu: nav/tools_setup.html\n",
    "toc: true\n",
    "comments: true\n",
    "---"
   ]
  },
  {
   "cell_type": "markdown",
   "metadata": {},
   "source": [
    "# JavaScript Variables and Data Types\n",
    "\n",
    "In this notebook, we will explore different types of variables and data types used in JavaScript. JavaScript is a dynamically typed language, which means that variables do not need to be explicitly declared with a type. The type of the variable is determined by the value assigned to it.\n",
    "\n",
    "### Types of Variables in JavaScript:\n",
    "- `var`: Declares a variable, optionally initializing it to a value.\n",
    "- `let`: Declares a block-scoped local variable, optionally initializing it to a value.\n",
    "- `const`: Declares a block-scoped, read-only constant.\n",
    "\n",
    "### Data Types in JavaScript:\n",
    "- Primitive Data Types:\n",
    "  - `String`\n",
    "  - `Number`\n",
    "  - `Boolean`\n",
    "  - `Null`\n",
    "  - `Undefined`\n",
    "  - `Symbol`\n",
    "- Non-primitive Data Types:\n",
    "  - `Object`\n",
    "  - `Array`\n",
    "  - `Function`"
   ]
  },
  {
   "cell_type": "markdown",
   "metadata": {
    "vscode": {
     "languageId": "javascript"
    }
   },
   "source": [
    "## Strings in JavaScript\n",
    "\n",
    "A **string** in JavaScript is used to represent textual data. Strings are created by enclosing characters within quotes (single or double quotes).\n",
    "\n",
    "### Example:\n",
    "In this example, we will declare a string variable and print it to the console.\n"
   ]
  },
  {
   "cell_type": "code",
   "execution_count": 7,
   "metadata": {
    "vscode": {
     "languageId": "javascript"
    }
   },
   "outputs": [
    {
     "data": {
      "application/javascript": "// 1. Strings\nlet name = \"Arhaan\";\nconsole.log(\"String: \", name);\nelement.append(\"String: \" + name + \"<br>\");\n",
      "text/plain": [
       "<IPython.core.display.Javascript object>"
      ]
     },
     "metadata": {},
     "output_type": "display_data"
    }
   ],
   "source": [
    "%%javascript\n",
    "// 1. Strings\n",
    "let name = \"Arhaan\";\n",
    "console.log(\"String: \", name);\n",
    "element.append(\"String: \" + name + \"<br>\");"
   ]
  },
  {
   "cell_type": "markdown",
   "metadata": {},
   "source": [
    "## Numbers in JavaScript\n",
    "\n",
    "JavaScript has only one type of number. Numbers can be written with or without decimals. They can be integers or floating-point numbers.\n",
    "\n",
    "### Example:\n",
    "In this example, we will declare a number variable and print it to the console.\n"
   ]
  },
  {
   "cell_type": "code",
   "execution_count": 8,
   "metadata": {
    "vscode": {
     "languageId": "javascript"
    }
   },
   "outputs": [
    {
     "data": {
      "application/javascript": "// 2. Numbers\nlet age = 15;\nconsole.log(\"Number: \", age);\nelement.append(\"Number: \" + age + \"<br>\");\n",
      "text/plain": [
       "<IPython.core.display.Javascript object>"
      ]
     },
     "metadata": {},
     "output_type": "display_data"
    }
   ],
   "source": [
    "%%javascript\n",
    "// 2. Numbers\n",
    "let age = 15;\n",
    "console.log(\"Number: \", age);\n",
    "element.append(\"Number: \" + age + \"<br>\");\n"
   ]
  },
  {
   "cell_type": "markdown",
   "metadata": {},
   "source": [
    "## Booleans in JavaScript\n",
    "\n",
    "A **boolean** represents one of two values: `true` or `false`. Booleans are typically used for logical operations.\n",
    "\n",
    "### Example:\n",
    "In this example, we will declare a boolean variable and print it to the console.\n"
   ]
  },
  {
   "cell_type": "code",
   "execution_count": 9,
   "metadata": {
    "vscode": {
     "languageId": "javascript"
    }
   },
   "outputs": [
    {
     "data": {
      "application/javascript": "// 3. Booleans\nlet isStudent = true;\nconsole.log(\"Boolean: \", isStudent);\nelement.append(\"Boolean: \" + isStudent + \"<br>\");\n",
      "text/plain": [
       "<IPython.core.display.Javascript object>"
      ]
     },
     "metadata": {},
     "output_type": "display_data"
    }
   ],
   "source": [
    "%%javascript\n",
    "// 3. Booleans\n",
    "let isStudent = true;\n",
    "console.log(\"Boolean: \", isStudent);\n",
    "element.append(\"Boolean: \" + isStudent + \"<br>\");\n"
   ]
  },
  {
   "cell_type": "markdown",
   "metadata": {},
   "source": [
    "## Undefined in JavaScript\n",
    "\n",
    "A variable in JavaScript that has been declared but not assigned a value has the value `undefined`.\n",
    "\n",
    "### Example:\n",
    "In this example, we will declare an undefined variable and print its value.\n"
   ]
  },
  {
   "cell_type": "code",
   "execution_count": 10,
   "metadata": {
    "vscode": {
     "languageId": "javascript"
    }
   },
   "outputs": [
    {
     "data": {
      "application/javascript": "// 4. Undefined\nlet undefinedVar;\nconsole.log(\"Undefined: \", undefinedVar);\nelement.append(\"Undefined: \" + undefinedVar + \"<br>\");\n",
      "text/plain": [
       "<IPython.core.display.Javascript object>"
      ]
     },
     "metadata": {},
     "output_type": "display_data"
    }
   ],
   "source": [
    "%%javascript\n",
    "// 4. Undefined\n",
    "let undefinedVar;\n",
    "console.log(\"Undefined: \", undefinedVar);\n",
    "element.append(\"Undefined: \" + undefinedVar + \"<br>\");\n"
   ]
  },
  {
   "cell_type": "markdown",
   "metadata": {},
   "source": [
    "## Null in JavaScript\n",
    "\n",
    "The `null` value represents the intentional absence of any object value. It is often used to indicate that a variable should not contain any value.\n",
    "\n",
    "### Example:\n",
    "In this example, we will declare a null variable and print its value.\n"
   ]
  },
  {
   "cell_type": "code",
   "execution_count": 11,
   "metadata": {
    "vscode": {
     "languageId": "javascript"
    }
   },
   "outputs": [
    {
     "data": {
      "application/javascript": "// 5. Null\nlet nullVar = null;\nconsole.log(\"Null: \", nullVar);\nelement.append(\"Null: \" + nullVar + \"<br>\");\n",
      "text/plain": [
       "<IPython.core.display.Javascript object>"
      ]
     },
     "metadata": {},
     "output_type": "display_data"
    }
   ],
   "source": [
    "%%javascript\n",
    "// 5. Null\n",
    "let nullVar = null;\n",
    "console.log(\"Null: \", nullVar);\n",
    "element.append(\"Null: \" + nullVar + \"<br>\");\n"
   ]
  },
  {
   "cell_type": "markdown",
   "metadata": {},
   "source": [
    "## Arrays and Objects in JavaScript\n",
    "\n",
    "### Arrays:\n",
    "Arrays are used to store multiple values in a single variable. Each value is called an element, and arrays can store values of any type.\n",
    "\n",
    "### Objects:\n",
    "Objects are collections of key-value pairs where each key (also called a property) is associated with a value. Objects are the most important data type in JavaScript.\n",
    "\n",
    "### Example:\n",
    "In this example, we will declare an array and an object and print them to the console.\n"
   ]
  },
  {
   "cell_type": "code",
   "execution_count": 12,
   "metadata": {
    "vscode": {
     "languageId": "javascript"
    }
   },
   "outputs": [
    {
     "data": {
      "application/javascript": "// 6. Arrays (Non-primitive)\nlet hobbies = [\"Basketball\", \"Coding\", \"Data Analytics\"];\nconsole.log(\"Array: \", hobbies);\nelement.append(\"Array: \" + hobbies.join(\", \") + \"<br>\");\n\n// 7. Objects (Non-primitive)\nlet student = {\n  name: \"Arhaan Memon\",\n  grade: 10,\n  interests: hobbies\n};\nconsole.log(\"Object: \", student);\nelement.append(\"Object: \" + JSON.stringify(student) + \"<br>\");\n",
      "text/plain": [
       "<IPython.core.display.Javascript object>"
      ]
     },
     "metadata": {},
     "output_type": "display_data"
    }
   ],
   "source": [
    "%%javascript\n",
    "// 6. Arrays (Non-primitive)\n",
    "let hobbies = [\"Basketball\", \"Coding\", \"Data Analytics\"];\n",
    "console.log(\"Array: \", hobbies);\n",
    "element.append(\"Array: \" + hobbies.join(\", \") + \"<br>\");\n",
    "\n",
    "// 7. Objects (Non-primitive)\n",
    "let student = {\n",
    "  name: \"Arhaan Memon\",\n",
    "  grade: 10,\n",
    "  interests: hobbies\n",
    "};\n",
    "console.log(\"Object: \", student);\n",
    "element.append(\"Object: \" + JSON.stringify(student) + \"<br>\");\n"
   ]
  }
 ],
 "metadata": {
  "kernelspec": {
   "display_name": "Python 3",
   "language": "python",
   "name": "python3"
  },
  "language_info": {
   "codemirror_mode": {
    "name": "ipython",
    "version": 3
   },
   "file_extension": ".py",
   "mimetype": "text/x-python",
   "name": "python",
   "nbconvert_exporter": "python",
   "pygments_lexer": "ipython3",
   "version": "3.11.5"
  }
 },
 "nbformat": 4,
 "nbformat_minor": 2
}
