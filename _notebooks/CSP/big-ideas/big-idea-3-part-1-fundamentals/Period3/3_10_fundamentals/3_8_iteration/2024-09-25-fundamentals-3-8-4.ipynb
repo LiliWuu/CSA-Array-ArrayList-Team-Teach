{
 "cells": [
  {
   "cell_type": "markdown",
   "metadata": {
    "vscode": {
     "languageId": "raw"
    }
   },
   "source": [
    "---\n",
    "toc: false\n",
    "comments: true\n",
    "layout: post\n",
    "title: 3.8 Nested Loops\n",
    "description:  \n",
    "permalink: /csp/big-idea/p3/3-8-4\n",
    "categories: [CSP Big Ideas]\n",
    "author:  Nikhil, Hithin, Armaghan, Elliot\n",
    "menu: nav/csp_units/csp_unit3_p3_fundamentals.html\n",
    "---"
   ]
  },
  {
   "cell_type": "code",
   "execution_count": 2,
   "metadata": {},
   "outputs": [
    {
     "name": "stdout",
     "output_type": "stream",
     "text": [
      "Armaghan is cool\n",
      "Elliot is cool\n",
      "Armaghan and Elliot love to code code code\n",
      "Nikhil is cool\n",
      "Hithin is cool\n",
      "Nikhil and Hithin love to code code code\n"
     ]
    }
   ],
   "source": [
    "groups = [['Armaghan', 'Elliot'], ['Nikhil', 'Hithin']]\n",
    "\n",
    "for pair in groups:\n",
    "    for person in pair:\n",
    "        print(person + ' is cool')\n",
    "    print(pair[0] + ' and ' + pair[1] + ' love to code code code')\n"
   ]
  }
 ],
 "metadata": {
  "kernelspec": {
   "display_name": "venv",
   "language": "python",
   "name": "python3"
  },
  "language_info": {
   "codemirror_mode": {
    "name": "ipython",
    "version": 3
   },
   "file_extension": ".py",
   "mimetype": "text/x-python",
   "name": "python",
   "nbconvert_exporter": "python",
   "pygments_lexer": "ipython3",
   "version": "3.12.6"
  }
 },
 "nbformat": 4,
 "nbformat_minor": 2
}
