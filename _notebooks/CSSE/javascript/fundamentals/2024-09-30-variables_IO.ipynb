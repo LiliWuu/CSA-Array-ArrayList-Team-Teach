{
 "cells": [
  {
   "cell_type": "raw",
   "metadata": {
    "vscode": {
     "languageId": "raw"
    }
   },
   "source": [
    "---\n",
    "comments: true\n",
    "layout: post\n",
    "title: JavaScript Variables, Input, Output\n",
    "description: An introduction to JavaScript variables, input, and output using the RPG game as an example.\n",
    "permalink: /csse/javascript/fundamentals/variables\n",
    "categories: [JavaScript Fundamentals]\n",
    "courses: { csse: {week: 6} }\n",
    "type: ccc\n",
    "---"
   ]
  },
  {
   "cell_type": "markdown",
   "metadata": {},
   "source": [
    "## Variables\n",
    "\n",
    "Variables are storage containers for data values used within a programming language. Variables can be useful when changing preferences, selecting a background, creating animations, and changing assets in game programming."
   ]
  },
  {
   "cell_type": "markdown",
   "metadata": {},
   "source": [
    "### Variable Inputs\n",
    "\n",
    "To obtain data from user and save into a JavaScript variable requires the use of HTML.  \n",
    "\n",
    "The `<input>` HTML element is used to create interactive controls for web-based forms in order to receive data from the user.\n",
    "\n",
    "- Geeks for Geeks Referece on [input tag](https://www.geeksforgeeks.org/html-input-tag/)\n",
    "- Remember in Jupyter Notebooks and in GitHub Pages we do not use `<head>` and `<body>` tags.  \n",
    "- Additionally, we prefer using SASS for `<style>` in GitHub Pages."
   ]
  },
  {
   "cell_type": "markdown",
   "metadata": {},
   "source": [
    "### Variable Outputs\n",
    "\n",
    "To output a variable in JavaScript it works in combination with HTML as well. To output the variable game_speed or any errors it requires  that outputs to be placed in the Document Object Model (DOM).\n",
    "\n",
    "Additionally, it is common practice in debugging a program to output to console.log.\n",
    "\n",
    "To view DOM and Developer Outputs\n",
    "- Open Help -> Toggle Developer Tools\n",
    "- Go to Console menu, you can clear console to view outputs from console comands in this cell\n",
    "- To see DOM go to Elements tab and use selector and click on output in this window."
   ]
  },
  {
   "cell_type": "code",
   "execution_count": 10,
   "metadata": {
    "vscode": {
     "languageId": "html"
    }
   },
   "outputs": [
    {
     "data": {
      "text/html": [
       "\n",
       "<!-- Input definitions -->\n",
       "<div>\n",
       "  <label for=\"speed\">Adjust Speed (1-5):</label>\n",
       "  <input type=\"number\" id=\"speed\" name=\"speed\" min=\"1\" max=\"5\" value=\"2\">\n",
       "  <button onclick=\"submitSpeed()\">Submit</button>\n",
       "</div>\n",
       "\n",
       "<!-- Document Object Model (DOM) output locations -->\n",
       "<div id=\"output\"></div>\n",
       "<div id=\"error\"></div>\n",
       "\n",
       "<script>\n",
       "  // Function to validate and output the game speed value\n",
       "  function submitSpeed() {\n",
       "    let gameSpeed = document.getElementById('speed').value;\n",
       "    \n",
       "    // Ensure the value is within the allowed range\n",
       "    if (gameSpeed < 1 || gameSpeed > 5) {\n",
       "      // Set/clear output messages when there is an error\n",
       "      document.getElementById('output').innerHTML = \"\";\n",
       "      // Output an error message to the console\n",
       "      console.error(\"Invalid game speed value:\", gameSpeed);\n",
       "      // Output an error message to the HTML page\n",
       "      document.getElementById('error').innerHTML = \"Invalid game speed value: \" + gameSpeed;\n",
       "    } else {\n",
       "      // Set/clear error messages when the value is valid\n",
       "      document.getElementById('error').innerHTML = \"\";\n",
       "      // Output the game speed value to the console\n",
       "      console.log(\"Game speed set to:\", gameSpeed);\n",
       "      // Output the game speed value to the HTML page\n",
       "      document.getElementById('output').innerHTML = \"Game speed set to: \" + gameSpeed;\n",
       "    }\n",
       "  }\n",
       "</script>\n"
      ],
      "text/plain": [
       "<IPython.core.display.HTML object>"
      ]
     },
     "metadata": {},
     "output_type": "display_data"
    }
   ],
   "source": [
    "%%html \n",
    "\n",
    "<!-- Input definitions -->\n",
    "<div>\n",
    "  <label for=\"speed\">Adjust Speed (1-5):</label>\n",
    "  <input type=\"number\" id=\"speed\" name=\"speed\" min=\"1\" max=\"5\" value=\"2\">\n",
    "  <button onclick=\"submitSpeed()\">Submit</button>\n",
    "</div>\n",
    "\n",
    "<!-- Document Object Model (DOM) output locations -->\n",
    "<div id=\"output\"></div>\n",
    "<div id=\"error\"></div>\n",
    "\n",
    "<script>\n",
    "  // Function to validate and output the game speed value\n",
    "  function submitSpeed() {\n",
    "    let gameSpeed = document.getElementById('speed').value;\n",
    "    \n",
    "    // Ensure the value is within the allowed range\n",
    "    if (gameSpeed < 1 || gameSpeed > 5) {\n",
    "      // Set/clear output messages when there is an error\n",
    "      document.getElementById('output').innerHTML = \"\";\n",
    "      // Output an error message to the console\n",
    "      console.error(\"Invalid game speed value:\", gameSpeed);\n",
    "      // Output an error message to the HTML page\n",
    "      document.getElementById('error').innerHTML = \"Invalid game speed value: \" + gameSpeed;\n",
    "    } else {\n",
    "      // Set/clear error messages when the value is valid\n",
    "      document.getElementById('error').innerHTML = \"\";\n",
    "      // Output the game speed value to the console\n",
    "      console.log(\"Game speed set to:\", gameSpeed);\n",
    "      // Output the game speed value to the HTML page\n",
    "      document.getElementById('output').innerHTML = \"Game speed set to: \" + gameSpeed;\n",
    "    }\n",
    "  }\n",
    "</script>"
   ]
  },
  {
   "cell_type": "markdown",
   "metadata": {},
   "source": [
    "### Variable Naming Conventions\n",
    "\n",
    "- **camelCase** In camel case, the first word is lowercase, and the first letter of the remaining words are uppercase: `gameSpeed`\n",
    "- **snake_case** In snake casse, the words in variables are all lowercase and are separated by a underbar: `game_speed`\n",
    "- **PascalCase** In PascalCase, the first letter in the word is capitalized: `GameSpeed`\n",
    "\n",
    "In JavaScript, there will be usage of all three types in the RPG project."
   ]
  },
  {
   "cell_type": "markdown",
   "metadata": {},
   "source": [
    "### Naming Convention Hack\n",
    "\n",
    "Search up naming convention for JavaScript.  Conventions are important to easily recognize purpose of definitions.\n",
    "1. Usage of camelCase.  What is standard?\n",
    "2. Usage of UPPER_CASE snake_case.  What is standard?\n",
    "3. Usage of PascalCase.  What is standard?"
   ]
  },
  {
   "cell_type": "markdown",
   "metadata": {},
   "source": [
    "### RPG Project Hack\n",
    "Identify naming convention used in this code.  Which items would you change according to your research?  Change and provide comments to justify why you would make the change. \n",
    "\n",
    "```js\n",
    "import GameControl from '{{site.baseurl}}/assets/js/rpg/GameControl.js';\n",
    "\n",
    "// Background data\n",
    "const image_src = \"{{site.baseurl}}/images/rpg/water.png\";\n",
    "const image_data = {\n",
    "    pixels: {height: 580, width: 1038}\n",
    "};\n",
    "const image = {src: image_src, data: image_data};\n",
    "\n",
    "// Sprite data\n",
    "const sprite_src = \"{{site.baseurl}}/images/rpg/turtle.png\";\n",
    "const sprite_data = {\n",
    "    SCALE_FACTOR: 10,\n",
    "    STEP_FACTOR: 1000,\n",
    "    ANIMATION_RATE: 50,\n",
    "    pixels: {height: 280, width: 256},\n",
    "    orientation: {rows: 4, columns: 3 },\n",
    "    down: {row: 0, start: 0, columns: 3 },\n",
    "    left: {row: 1, start: 0, columns: 3 },\n",
    "    right: {row: 2, start: 0, columns: 3 },\n",
    "    up: {row: 3, start: 0, columns: 3 },\n",
    "};\n",
    "const sprite = {src: sprite_src, data: sprite_data};\n",
    "\n",
    "// Assets for game\n",
    "//const assets = {}\n",
    "//const assets = {image: image}\n",
    "//const assets = {sprite: sprite}\n",
    "const assets = {image: image, sprite: sprite}\n",
    "\n",
    "// Start game engine\n",
    "GameControl.start(assets);\n",
    "```"
   ]
  }
 ],
 "metadata": {
  "kernelspec": {
   "display_name": "venv",
   "language": "python",
   "name": "python3"
  },
  "language_info": {
   "codemirror_mode": {
    "name": "ipython",
    "version": 3
   },
   "file_extension": ".py",
   "mimetype": "text/x-python",
   "name": "python",
   "nbconvert_exporter": "python",
   "pygments_lexer": "ipython3",
   "version": "3.12.5"
  }
 },
 "nbformat": 4,
 "nbformat_minor": 2
}
