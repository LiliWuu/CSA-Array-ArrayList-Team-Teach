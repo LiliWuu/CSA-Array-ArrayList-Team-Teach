{
 "cells": [
  {
   "cell_type": "raw",
   "metadata": {},
   "source": []
  },
  {
   "cell_type": "markdown",
   "metadata": {},
   "source": [
    "# Big Idea 3.1: Variables and Assignments\n",
    "\n",
    "Learn how variables are used in programs to simplify more complex problems\n",
    "\n",
    "### Lesson \n",
    "\n",
    "1. **Variables**:\n",
    "   - What are variables?\n",
    "   - Popcorn Hack.\n",
    "\n",
    "2. **Varaible Naming**:\n",
    "   - SnakeCase\n",
    "   - PascalCase\n",
    "   - CamelCase\n",
    "   - Putting it all to together\n",
    "\n",
    "3. **Variable Types**:\n",
    "   - Integers\n",
    "   - Strings\n",
    "   - Boolean\n",
    "   - Float\n",
    "   - Lists\n",
    "   - Dictionaries In Pyhton\n",
    "\n",
    "4. **Operators on string**\n",
    "   - (+)\n",
    "   - (*)"
   ]
  },
  {
   "cell_type": "markdown",
   "metadata": {},
   "source": [
    "# Variables\n",
    "\n",
    "**Variables**\n",
    "\n",
    "Variables ae used to store some kind of data in program that can be referenced elsewhere (Often more than once)"
   ]
  },
  {
   "cell_type": "code",
   "execution_count": 7,
   "metadata": {},
   "outputs": [
    {
     "name": "stdout",
     "output_type": "stream",
     "text": [
      "Introduction\n",
      "Variables and Assignment\n"
     ]
    }
   ],
   "source": [
    "# Introduction\n",
    "\n",
    "print (\"Introduction\")\n",
    "print (\"Variables and Assignment\")\n"
   ]
  },
  {
   "cell_type": "markdown",
   "metadata": {},
   "source": []
  },
  {
   "cell_type": "markdown",
   "metadata": {},
   "source": []
  },
  {
   "cell_type": "code",
   "execution_count": 8,
   "metadata": {},
   "outputs": [
    {
     "name": "stdout",
     "output_type": "stream",
     "text": [
      "3\n"
     ]
    }
   ],
   "source": [
    "# Variables\n",
    "n = \"3\"\n",
    "print (n)"
   ]
  },
  {
   "cell_type": "code",
   "execution_count": 9,
   "metadata": {},
   "outputs": [
    {
     "name": "stdout",
     "output_type": "stream",
     "text": [
      "This is an example of float\n",
      "e = 2.718281828\n"
     ]
    }
   ],
   "source": [
    "# In lne, base e = 2.718281828\n",
    "example3 = \"This is an example of float\"\n",
    "print (example3)\n",
    "print (\"e = 2.718281828\")"
   ]
  }
 ],
 "metadata": {
  "kernelspec": {
   "display_name": "Python 3",
   "language": "python",
   "name": "python3"
  },
  "language_info": {
   "codemirror_mode": {
    "name": "ipython",
    "version": 3
   },
   "file_extension": ".py",
   "mimetype": "text/x-python",
   "name": "python",
   "nbconvert_exporter": "python",
   "pygments_lexer": "ipython3",
   "version": "3.12.5"
  }
 },
 "nbformat": 4,
 "nbformat_minor": 2
}
