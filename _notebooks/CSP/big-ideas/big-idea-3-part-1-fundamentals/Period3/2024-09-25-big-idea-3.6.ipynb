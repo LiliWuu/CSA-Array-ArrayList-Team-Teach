{
 "cells": [
  {
   "cell_type": "markdown",
   "metadata": {
    "vscode": {
     "languageId": "html"
    }
   },
   "source": [
    "---\n",
    "layout: post\n",
    "title: If Statements\n",
    "description: if statements\n",
    "permalink: /if/\n",
    "---"
   ]
  },
  {
   "cell_type": "raw",
   "metadata": {
    "vscode": {
     "languageId": "raw"
    }
   },
   "source": [
    "\n",
    "Conditionals in both JavaScript and Python are used to execute code only if certain conditions are true. They allow programs to make decisions based on logical tests, and are essential in controlling the flow of execution in programs."
   ]
  },
  {
   "cell_type": "code",
   "execution_count": 5,
   "metadata": {},
   "outputs": [
    {
     "name": "stdout",
     "output_type": "stream",
     "text": [
      "B\n"
     ]
    }
   ],
   "source": [
    "# Example of Python Conditionals\n",
    "\n",
    "score = 85\n",
    "\n",
    "if score >= 90:\n",
    "    print(\"A\")\n",
    "elif score >= 80:\n",
    "    print(\"B\")\n",
    "elif score >= 70:\n",
    "    print(\"C\")\n",
    "else:\n",
    "    print(\"F\")\n"
   ]
  },
  {
   "cell_type": "raw",
   "metadata": {
    "vscode": {
     "languageId": "raw"
    }
   },
   "source": [
    "In this case, the if statements are there to determine whether the grade is an A, B, C, or F. In line 5, the if statement will print \"A\" IF the score is greater than 90. The statements after that use elif (else-if), which have the same function as an if statement. The difference between the two is that an if statement checks if a statement is true, and an elif statement checks if a statement is false.                                                "
   ]
  },
  {
   "cell_type": "raw",
   "metadata": {
    "vscode": {
     "languageId": "raw"
    }
   },
   "source": [
    "Important Notes:\n",
    "Conditions are usually comparisons (e.g., score >= 90), and they evaluate to either True or False.\n",
    "Indentation is important in Python. Unlike JavaScript, which uses curly braces {} to define code blocks, Python uses indentation to signify the beginning and end of code blocks.\n",
    "Homework: Create a project with 3 conditionals, one being if statement, one elif statement, and one else statement"
   ]
  },
  {
   "cell_type": "code",
   "execution_count": 6,
   "metadata": {
    "vscode": {
     "languageId": "javascript"
    }
   },
   "outputs": [
    {
     "ename": "SyntaxError",
     "evalue": "invalid syntax (1957886813.py, line 2)",
     "output_type": "error",
     "traceback": [
      "\u001b[0;36m  File \u001b[0;32m\"/tmp/ipykernel_453159/1957886813.py\"\u001b[0;36m, line \u001b[0;32m2\u001b[0m\n\u001b[0;31m    // Example of JavaScript Conditionals\u001b[0m\n\u001b[0m    ^\u001b[0m\n\u001b[0;31mSyntaxError\u001b[0m\u001b[0;31m:\u001b[0m invalid syntax\n"
     ]
    }
   ],
   "source": [
    "// Example of JavaScript Conditionals with Input\n",
    "\n",
    "function getGrade() {\n",
    "  let score = prompt(\"Enter the score (0-100):\");\n",
    "  score = Number(score);  // Convert input to a number\n",
    "\n",
    "  if (score >= 90) {\n",
    "    console.log(\"A\");\n",
    "  } else if (score >= 80) {\n",
    "    console.log(\"B\");\n",
    "  } else if (score >= 70) {\n",
    "    console.log(\"C\");\n",
    "  } else {\n",
    "    console.log(\"F\");\n",
    "  }\n",
    "}\n",
    "\n",
    "// Call the function to get a grade\n",
    "getGrade();"
   ]
  }
 ],
 "metadata": {
  "kernelspec": {
   "display_name": "Python 3.12.5 64-bit",
   "language": "python",
   "name": "python3"
  },
  "language_info": {
   "codemirror_mode": {
    "name": "ipython",
    "version": 3
   },
   "file_extension": ".py",
   "mimetype": "text/x-python",
   "name": "python",
   "nbconvert_exporter": "python",
   "pygments_lexer": "ipython3",
   "version": "3.10.12"
  },
  "vscode": {
   "interpreter": {
    "hash": "b0fa6594d8f4cbf19f97940f81e996739fb7646882a419484c72d19e05852a7e"
   }
  }
 },
 "nbformat": 4,
 "nbformat_minor": 2
}
