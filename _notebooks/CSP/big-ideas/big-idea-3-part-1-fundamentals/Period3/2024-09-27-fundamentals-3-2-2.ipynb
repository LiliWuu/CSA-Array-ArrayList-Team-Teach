{
 "cells": [
  {
   "cell_type": "raw",
   "metadata": {
    "vscode": {
     "languageId": "raw"
    }
   },
   "source": [
    "---\n",
    "toc: false\n",
    "comments: true\n",
    "layout: post\n",
    "title: 3.2.2 JSON implementation\n",
    "description: Student led teaching on converting from Python to JSON.\n",
    "permalink: /csp/big-idea/p3/3-2-2\n",
    "categories: [CSP Big Ideas]\n",
    "author:  Gabriela Connelly\n",
    "menu: nav/csp_units/csp_unit3_p3_fundamentals.html\n",
    "---"
   ]
  },
  {
   "cell_type": "markdown",
   "metadata": {},
   "source": [
    "##JSON-JavaScript Object Notation\n",
    "JSON is a lightweight data interchange format that is easy for people and machines to understand. It is widely used for data exchange between a client and a server, as well as for storing and transporting data.\n",
    "\n",
    "In Python, the json module provides methods to convert Python objects into JSON and vice versa. This process is known as serialization (converting Python objects to JSON) and deserialization (converting JSON to Python objects). JSON is used when data is sent from a web server to a webpage.\n",
    "\n",
    "\n",
    "\n"
   ]
  },
  {
   "cell_type": "code",
   "execution_count": null,
   "metadata": {},
   "outputs": [],
   "source": [
    "# using json.dumps method to serialize Python objects into a JSON-formatted string\n",
    "import json\n",
    "\n",
    "# Python dictionary\n",
    "python_dict = {\n",
    "    \"name\": \"Alice\",\n",
    "    \"age\": 25,\n",
    "    \"is_student\": False,\n",
    "    \"courses\": [\"Math\", \"Science\"],\n",
    "    \"details\": {\n",
    "        \"height\": 1.65,\n",
    "        \"address\": \"123 Main St\"\n",
    "    }\n",
    "}\n",
    "\n",
    "# Convert dictionary to JSON string\n",
    "json_string = json.dumps(python_dict)\n",
    "print(json_string)\n",
    "\n",
    "# writes the JSON string representation of python_dict directly into a file\n",
    "with open('data.json', 'w') as json_file:\n",
    "    json.dump(python_dict, json_file)\n",
    "\n"
   ]
  }
 ],
 "metadata": {
  "language_info": {
   "name": "python"
  }
 },
 "nbformat": 4,
 "nbformat_minor": 2
}
