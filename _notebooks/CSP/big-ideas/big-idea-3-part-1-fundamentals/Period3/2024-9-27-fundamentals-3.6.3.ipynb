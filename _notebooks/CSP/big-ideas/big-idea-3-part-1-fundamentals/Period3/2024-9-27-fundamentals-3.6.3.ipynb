{
 "cells": [
  {
   "cell_type": "markdown",
   "metadata": {},
   "source": [
    "---\n",
    "toc: false\n",
    "comments: true\n",
    "layout: post\n",
    "title: 3.6.3 More Python Conditionals:snake:ψ(｀∇´)ψ\n",
    "permalink: /csp/big-idea/p3/3-6-3\n",
    "categories: [CSP Big Ideas]\n",
    "author:  Zoe, Avika, Rutvik, Jonah, Aarush\n",
    "menu: nav/csp_units/csp_unit3_p3_fundamentals.html\n",
    "---"
   ]
  },
  {
   "cell_type": "code",
   "execution_count": null,
   "metadata": {},
   "outputs": [],
   "source": [
    "from IPython.core.display import HTML\n",
    "def load_css():\n",
    "    styles = open(\"custom.css\", \"r\").read()\n",
    "    return HTML(f\"<style>{styles}</style>\")\n",
    "load_css()"
   ]
  },
  {
   "cell_type": "markdown",
   "metadata": {},
   "source": [
    "## Python Conditionals:\n",
    "\n",
    "### `if` statement:\n",
    "This checks a condition. If the condition evaluates to `True`, the code block under the `if` statement is executed.\n",
    "\n",
    "### `elif` statement:\n",
    "This is short for \"else if\" in Python. It allows you to check multiple conditions after the `if` statement. If the first condition is `False`, but this one is `True`, it runs.\n",
    "\n",
    "### `else` statement:\n",
    "If none of the previous conditions are `True`, the code under `else` is executed.\n",
    "\n",
    "---\n",
    "\n",
    "## Example of Python Conditionals:\n",
    "\n",
    "```python\n",
    "age = 18\n",
    "\n",
    "if age < 18:\n",
    "    print(\"You are a minor.\")\n",
    "elif age == 18:\n",
    "    print(\"You just became an adult!\")\n",
    "else:\n",
    "    print(\"You are an adult.\")\n"
   ]
  }
 ],
 "metadata": {
  "kernelspec": {
   "display_name": "Python 3.12.5 64-bit",
   "language": "python",
   "name": "python3"
  },
  "language_info": {
   "name": "python",
   "version": "3.12.5"
  },
  "vscode": {
   "interpreter": {
    "hash": "b0fa6594d8f4cbf19f97940f81e996739fb7646882a419484c72d19e05852a7e"
   }
  }
 },
 "nbformat": 4,
 "nbformat_minor": 2
}
