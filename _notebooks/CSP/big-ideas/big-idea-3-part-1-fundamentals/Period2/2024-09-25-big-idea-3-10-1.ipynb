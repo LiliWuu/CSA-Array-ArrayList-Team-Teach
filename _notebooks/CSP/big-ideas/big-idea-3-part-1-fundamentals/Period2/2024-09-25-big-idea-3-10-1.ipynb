{
 "cells": [
  {
   "cell_type": "markdown",
   "metadata": {},
   "source": [
    "---\n",
    "toc: false\n",
    "comments: true\n",
    "layout: post\n",
    "title: 3.10.1 Lists\n",
    "description: Student led teaching on Lists. Learn how storage and manipulation of multiple items using indexing to access individual elements.\n",
    "permalink: /csp/big-idea/p2/3-10-1\n",
    "author:  Alex, Daksha, Darsh, Zach\n",
    "menu: nav/csp_units/csp_unit3_p2_fundamentals.html\n",
    "---"
   ]
  }
 ],
 "metadata": {
  "kernelspec": {
   "display_name": "venv",
   "language": "python",
   "name": "python3"
  },
  "language_info": {
   "name": "python",
   "version": "3.12.3"
  }
 },
 "nbformat": 4,
 "nbformat_minor": 2
}
