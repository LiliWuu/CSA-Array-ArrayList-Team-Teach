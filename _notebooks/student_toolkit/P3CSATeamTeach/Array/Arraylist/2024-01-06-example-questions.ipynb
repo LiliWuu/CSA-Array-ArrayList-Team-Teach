{
 "cells": [
  {
   "cell_type": "markdown",
   "metadata": {},
   "source": [
    "---\n",
    "layout: post\n",
    "toc: true\n",
    "title: Array/Arraylist\n",
    "description: AP CSA FRQ Array/Arraylist example questions\n",
    "courses: { csa: {week: 1} }\n",
    "type: ccc\n",
    "categories: [AP CSA]\n",
    "menu: nav/student_toolkit/P3CSATeamTeach/array.html\n",
    "permalink: /teamteach/array/example-questions\n",
    "---"
   ]
  },
  {
   "cell_type": "markdown",
   "metadata": {},
   "source": [
    "# Example Question 1\n",
    "Users of a website are asked to provide a review of the website at the end of each visit. Each review, represented by an object of the `Review` class, consists of an integer indicating the user's rating of the website and an optional `String` comment field. The comment field in a `Review` object ends with a period (\" . \"), exclamation point (\" ! \"), or letter, or is a `String` of length 0 if the user did not enter a comment.\n",
    "\n",
    "```java\n",
    "public class Review\n",
    "{\n",
    "    private int rating;\n",
    "    private String comment;\n",
    "    \n",
    "    /** Precondition: r >= 0\n",
    "     *      c is not null.\n",
    "     */\n",
    "    public Review(int r, String c) \n",
    "    {\n",
    "        rating = r;\n",
    "        comment = c;\n",
    "    }\n",
    "\n",
    "    public int getRating() \n",
    "    {\n",
    "        return rating;\n",
    "    }\n",
    "\n",
    "    public String getComment()\n",
    "    {\n",
    "        return comment;\n",
    "    }\n",
    "\n",
    "    // There may be instance variables, constructors, and methods that are not shown.\n",
    "}\n",
    "```\n",
    "The `ReviewAnalysis` class contains methods used to analyze the reviews provided by users. You will write two methods of the `ReviewAnalysis` class.\n",
    "\n",
    "```java\n",
    "public class ReviewAnalysis\n",
    "{\n",
    "    /** All user reviews to be included in this analysis */\n",
    "    private Review[] allReviews;\n",
    "\n",
    "    /** Initializes allReviews to contain all the Review objects to be analyzed */\n",
    "    public ReviewAnalysis() \n",
    "    {\n",
    "        /* implementation not shown */\n",
    "    }\n",
    "\n",
    "    /** Returns a double representing the average rating of all the Review objects to be analyzed, as described in part (a)\n",
    "     * Precondition: allReviews contains at least one Review.\n",
    "     * No element of allReviews is null.\n",
    "     */\n",
    "    public double getAverageRating()\n",
    "    {\n",
    "        /* to be implemented in part(a) */\n",
    "    }     \n",
    "\n",
    "    /** Returns an ArrayList of String objects containing formatted versions of selected user comments, as described in part(b)\n",
    "     * Precondition: allReviews contains atleast one Review.\n",
    "     * No element of allReviews is null.\n",
    "     * Postcondition: allReviews is unchanged.\n",
    "     */\n",
    "    public ArrayList<String> collectComments()\n",
    "    {\n",
    "        /* to be implemented in part(b) */\n",
    "    }\n",
    "}"
   ]
  },
  {
   "cell_type": "markdown",
   "metadata": {
    "vscode": {
     "languageId": "java"
    }
   },
   "source": [
    "### Part A\n",
    "(a) Write the `ReviewAnalysis` method `getAverageRating`, which returns the average rating (arithmetic mean) of all elements of `allReviews`. For example, `getAverageRating` would return 3.4 if `allReviews` contained the following `Review` objects.\n",
    "<img width=\"617\" alt=\"Screenshot 2025-01-08 at 12 22 47 PM\" src=\"https://github.com/user-attachments/assets/b7c74e08-1f97-416a-8e4b-9ae92eec1aec\" />\n",
    "\n",
    "Complete method `getAverageRating`.\n",
    "```java\n",
    "/** Returns a double representing the average rating of all the Review objects to be analyzed, as described in part(a)\n",
    " * Precondition: allReviews contains at least one Reivew.\n",
    " * No element of allReviews is null.\n",
    " */\n",
    "public double getAverageRating()\n",
    "```"
   ]
  },
  {
   "cell_type": "markdown",
   "metadata": {},
   "source": [
    "# Example Question 2"
   ]
  },
  {
   "cell_type": "markdown",
   "metadata": {},
   "source": [
    "# Example Question 3"
   ]
  }
 ],
 "metadata": {
  "language_info": {
   "name": "python"
  }
 },
 "nbformat": 4,
 "nbformat_minor": 2
}
