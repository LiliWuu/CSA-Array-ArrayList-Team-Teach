{
 "cells": [
  {
   "cell_type": "raw",
   "metadata": {
    "vscode": {
     "languageId": "raw"
    }
   },
   "source": [
    "---\n",
    "toc: false\n",
    "comments: true\n",
    "layout: post\n",
    "title: Iterations In Python 3.8\n",
    "description: Learn about the giant world of iterations. \n",
    "permalink: /csp/big-ideas/p1/3-8-1\n",
    "categories: [CSP Big Ideas 3]\n",
    "author:  Arya, Shawn, Aarav\n",
    "menu: nav/csp_units/csp_unit3_p1_fundamentals.html\n",
    "---"
   ]
  },
  {
   "cell_type": "markdown",
   "metadata": {},
   "source": [
    "# APCSP Pseudo-Code: Iterating Over a Simple List of Values "
   ]
  },
  {
   "cell_type": "code",
   "execution_count": null,
   "metadata": {
    "vscode": {
     "languageId": "html"
    }
   },
   "outputs": [],
   "source": [
    "\n",
    "groceries ← [\"milk\", \"bread\", \"eggs\", \"juice\", \"yoghurt\"]\n",
    "\n",
    "FOR EACH grocery IN groceries:\n",
    "    DISPLAY grocery\n",
    "END FOR"
   ]
  },
  {
   "cell_type": "code",
   "execution_count": null,
   "metadata": {},
   "outputs": [],
   "source": [
    "# Example 1: Simple for loop in Python\n",
    "groceries = [\"milk\", \"bread\", \"eggs\", \"juice\", \"yoghurt\"]\n",
    "for grocery in groceries:\n",
    "    print(grocery)"
   ]
  }
 ],
 "metadata": {
  "kernelspec": {
   "display_name": "Python 3 (ipykernel)",
   "language": "python",
   "name": "python3"
  },
  "language_info": {
   "codemirror_mode": {
    "name": "ipython",
    "version": 3
   },
   "file_extension": ".py",
   "mimetype": "text/x-python",
   "name": "python",
   "nbconvert_exporter": "python",
   "pygments_lexer": "ipython3",
   "version": "3.12.3"
  }
 },
 "nbformat": 4,
 "nbformat_minor": 4
}
