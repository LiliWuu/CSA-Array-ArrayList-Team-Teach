{
 "cells": [
  {
   "cell_type": "markdown",
   "metadata": {},
   "source": [
    "---\n",
    "comments: true\n",
    "layout: post\n",
    "title: Booleans lesson \n",
    "description: Booleans lessons project\n",
    "permalink: /first/\n",
    "categories: [Foundation]\n",
    "---"
   ]
  },
  {
   "cell_type": "markdown",
   "metadata": {},
   "source": [
    "## Booleans\n",
    "### main idea\n",
    "- The concept of booleans is the a value of true and false.\n",
    "- booleans expression could have the plus, greater than and less than, and equal symbol\n",
    "- an example is Equal to (==): Checks if two values are the same.\n",
    "- More Examples:"
   ]
  },
  {
   "cell_type": "code",
   "execution_count": null,
   "metadata": {
    "vscode": {
     "languageId": "plaintext"
    }
   },
   "outputs": [],
   "source": [
    " 3 == 3 is true.\n",
    "Not equal to (!=): Checks if two values are different.\n",
    " 3 != 4 is true.\n",
    "Greater than (>): Checks if the first value is larger.\n",
    " 5 > 3 is true.\n",
    "Less than (<): Checks if the first value is smaller.\n",
    " 2 < 5 is true.\n",
    "Greater than or equal to (>=): Checks if the first value is larger or the same.\n",
    " 4 >= 4 is true.\n",
    "Less than or equal to (<=): Checks if the first value is smaller or the same.\n",
    " 2 <= 3 is true."
   ]
  },
  {
   "cell_type": "markdown",
   "metadata": {},
   "source": [
    "-  Booleans are used to determine what is going to happen in our code.\n",
    "-  An easy way to explain is that booleans are comparisons. we compare things to get our true and false answers.\n",
    "- example: \n"
   ]
  },
  {
   "cell_type": "code",
   "execution_count": null,
   "metadata": {
    "vscode": {
     "languageId": "plaintext"
    }
   },
   "outputs": [],
   "source": [
    " is 8 less than 11? (true) \n",
    " is 5 greater than 7? (false)"
   ]
  }
 ],
 "metadata": {
  "language_info": {
   "name": "python"
  }
 },
 "nbformat": 4,
 "nbformat_minor": 2
}
