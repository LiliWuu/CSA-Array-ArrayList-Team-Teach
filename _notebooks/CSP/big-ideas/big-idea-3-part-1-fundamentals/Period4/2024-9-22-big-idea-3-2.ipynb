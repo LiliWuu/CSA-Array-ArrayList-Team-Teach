{
 "cells": [
  {
   "cell_type": "raw",
   "metadata": {
    "vscode": {
     "languageId": "raw"
    }
   },
   "source": [
    "---\n",
    "toc: false\n",
    "comments: true\n",
    "layout: post\n",
    "title: 3.2 Data Abstraction\n",
    "description: Student led teaching on Abstraction. Teaching how various data types can use abstraction for computational efficiency.\n",
    "permalink: /csp/big-idea/p4/3-2/\n",
    "categories: [CSP Big Ideas]\n",
    "author:  Ian, Thomas, Collin, Aarush.\n",
    "menu: nav/csp_units/csp_unit3_p4_fundamentals.html\n",
    "---"
   ]
  },
  {
   "cell_type": "markdown",
   "metadata": {},
   "source": [
    "## Big Ideas:\n",
    "\n",
    "Mainpage for 3.2 DATA ABSTRACTION\n",
    "\n",
    "# Homework Hack:\n",
    "\n",
    "-Make a list with words, numbers, and decimals\n",
    "-Print the list, print only the decimals with an index\n",
    "-Make a string equal \"none\" with no \"\", and print it out\n",
    "-Make a touple with anything inside of it"
   ]
  },
  {
   "cell_type": "markdown",
   "metadata": {},
   "source": [
    "# Popcorn Hack: Sets\n",
    "---\n",
    "\n",
    "## Step 1: Create a Set\n",
    "\n",
    "Create a set: `{1, 2, 3, 4, 5}`.\n",
    "\n",
    "## Step 2: Add an Element\n",
    "\n",
    "Add `6` to the set.\n",
    "\n",
    "## Step 3: Remove an Element\n",
    "\n",
    "Remove `2` from the set.\n",
    "\n",
    "## Step 4: Union of Sets\n",
    "\n",
    "Union with `{7, 8, 9}`.\n",
    "\n",
    "## Step 5: Clear the Set\n",
    "\n",
    "Clear the set.\n",
    "\n",
    "## Bonus:\n",
    "\n",
    "1. Create a set with duplicates: `{1, 2, 2, 3, 3, 4}`.\n",
    "2. Find the length with `len()`.\n"
   ]
  },
  {
   "cell_type": "markdown",
   "metadata": {},
   "source": [
    "# Popcorn Hack: Strings\n",
    "\n",
    "---\n",
    "\n",
    "## Step 1: Create a String\n",
    "\n",
    "Create a string: `\"Learning Python is fun!\"`.\n",
    "\n",
    "## Step 2: String Length\n",
    "\n",
    "Find the length of the string using `len()`.\n",
    "\n",
    "## Step 3: String Slicing\n",
    "\n",
    "Extract `\"Python\"` from the string using slicing.\n",
    "\n",
    "## Step 4: String Uppercase\n",
    "\n",
    "Convert the string to all uppercase letters.\n",
    "\n",
    "## Step 5: String Replace\n",
    "\n",
    "Replace `\"fun\"` with `\"awesome\"`.\n",
    "\n",
    "## Bonus:\n",
    "\n",
    "Reverse the string using slicing."
   ]
  },
  {
   "cell_type": "markdown",
   "metadata": {},
   "source": [
    "# Popcorn Hack: Lists\n",
    "\n",
    "---\n",
    "\n",
    "## Step 1: Create a List\n",
    "\n",
    "Create a list of numbers: `[3, 5, 7, 9, 11]`.\n",
    "\n",
    "## Step 2: Access an Element\n",
    "\n",
    "Access the third element of the list.\n",
    "\n",
    "## Step 3: Modify an Element\n",
    "\n",
    "Change the second element to `6`.\n",
    "\n",
    "## Step 4: Add an Element\n",
    "\n",
    "Append `13` to the list.\n",
    "\n",
    "## Step 5: Remove an Element\n",
    "\n",
    "Remove the element `9` from the list.\n",
    "\n",
    "## Bonus:\n",
    "\n",
    "Sort the list in descending order.\n"
   ]
  }
 ],
 "metadata": {
  "kernelspec": {
   "display_name": "Python 3",
   "language": "python",
   "name": "python3"
  },
  "language_info": {
   "codemirror_mode": {
    "name": "ipython",
    "version": 3
   },
   "file_extension": ".py",
   "mimetype": "text/x-python",
   "name": "python",
   "nbconvert_exporter": "python",
   "pygments_lexer": "ipython3",
   "version": "3.11.4"
  },
  "orig_nbformat": 4
 },
 "nbformat": 4,
 "nbformat_minor": 2
}
